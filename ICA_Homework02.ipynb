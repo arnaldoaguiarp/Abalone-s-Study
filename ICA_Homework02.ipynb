{
  "nbformat": 4,
  "nbformat_minor": 0,
  "metadata": {
    "colab": {
      "name": "ICA - Homework02.ipynb",
      "provenance": [],
      "collapsed_sections": [
        "OXQ7e5kJkmEq",
        "MZoebMkckciT",
        "IkM52sGiddDJ",
        "ZQNJAM7v_xsB"
      ]
    },
    "kernelspec": {
      "display_name": "Python 3",
      "name": "python3"
    }
  },
  "cells": [
    {
      "cell_type": "markdown",
      "metadata": {
        "id": "P-g-CsdFxcMt"
      },
      "source": [
        "## Inicializando"
      ]
    },
    {
      "cell_type": "code",
      "metadata": {
        "id": "CCiJQt8EHWsW"
      },
      "source": [
        "# Importando bibliotecas necessárias.\r\n",
        "import pandas as pd\r\n",
        "import numpy as np\r\n",
        "import seaborn as sns #visualisation\r\n",
        "import matplotlib.pyplot as plt #visualisation\r\n",
        "%matplotlib inline \r\n",
        "sns.set(color_codes=True)\r\n",
        "\r\n",
        "from scipy.stats import norm\r\n",
        "import matplotlib.pyplot as plt"
      ],
      "execution_count": 316,
      "outputs": []
    },
    {
      "cell_type": "code",
      "metadata": {
        "id": "g31cu1Tjg0_j",
        "colab": {
          "base_uri": "https://localhost:8080/",
          "height": 0
        },
        "outputId": "00cd3055-e1d6-4ddf-cb6f-f5c1bb50546e"
      },
      "source": [
        "from google.colab import drive\n",
        "drive.mount('/content/drive')"
      ],
      "execution_count": 317,
      "outputs": [
        {
          "output_type": "stream",
          "text": [
            "Drive already mounted at /content/drive; to attempt to forcibly remount, call drive.mount(\"/content/drive\", force_remount=True).\n"
          ],
          "name": "stdout"
        }
      ]
    },
    {
      "cell_type": "code",
      "metadata": {
        "id": "V3uJITgQJdQ5"
      },
      "source": [
        "tabela = pd.read_csv('/content/drive/MyDrive/Classroom/ICA20.2/abalone.csv',sep=';',decimal=',')\r\n",
        "tabela = tabela.drop(columns=['Unnamed: 0'])"
      ],
      "execution_count": 318,
      "outputs": []
    },
    {
      "cell_type": "markdown",
      "metadata": {
        "id": "OXQ7e5kJkmEq"
      },
      "source": [
        "# Questão 00\r\n"
      ]
    },
    {
      "cell_type": "code",
      "metadata": {
        "colab": {
          "base_uri": "https://localhost:8080/"
        },
        "id": "Un1QTAGXKOzp",
        "outputId": "43e6a66d-3a5e-4cbe-a31d-8cfe249837bc"
      },
      "source": [
        "# Para exibir as 5 linhas principais (sem parâmetro = 5 linhas)\r\n",
        "tabela.head(6)"
      ],
      "execution_count": null,
      "outputs": [
        {
          "output_type": "execute_result",
          "data": {
            "text/html": [
              "<div>\n",
              "<style scoped>\n",
              "    .dataframe tbody tr th:only-of-type {\n",
              "        vertical-align: middle;\n",
              "    }\n",
              "\n",
              "    .dataframe tbody tr th {\n",
              "        vertical-align: top;\n",
              "    }\n",
              "\n",
              "    .dataframe thead th {\n",
              "        text-align: right;\n",
              "    }\n",
              "</style>\n",
              "<table border=\"1\" class=\"dataframe\">\n",
              "  <thead>\n",
              "    <tr style=\"text-align: right;\">\n",
              "      <th></th>\n",
              "      <th>Type</th>\n",
              "      <th>LongestShell</th>\n",
              "      <th>Diameter</th>\n",
              "      <th>Height</th>\n",
              "      <th>WholeWeight</th>\n",
              "      <th>ShuckedWeight</th>\n",
              "      <th>VisceraWeight</th>\n",
              "      <th>ShellWeight</th>\n",
              "      <th>Rings</th>\n",
              "    </tr>\n",
              "  </thead>\n",
              "  <tbody>\n",
              "    <tr>\n",
              "      <th>0</th>\n",
              "      <td>M</td>\n",
              "      <td>0.455</td>\n",
              "      <td>0.365</td>\n",
              "      <td>0.095</td>\n",
              "      <td>0.5140</td>\n",
              "      <td>0.2245</td>\n",
              "      <td>0.1010</td>\n",
              "      <td>0.150</td>\n",
              "      <td>15</td>\n",
              "    </tr>\n",
              "    <tr>\n",
              "      <th>1</th>\n",
              "      <td>M</td>\n",
              "      <td>0.350</td>\n",
              "      <td>0.265</td>\n",
              "      <td>0.090</td>\n",
              "      <td>0.2255</td>\n",
              "      <td>0.0995</td>\n",
              "      <td>0.0485</td>\n",
              "      <td>0.070</td>\n",
              "      <td>7</td>\n",
              "    </tr>\n",
              "    <tr>\n",
              "      <th>2</th>\n",
              "      <td>F</td>\n",
              "      <td>0.530</td>\n",
              "      <td>0.420</td>\n",
              "      <td>0.135</td>\n",
              "      <td>0.6770</td>\n",
              "      <td>0.2565</td>\n",
              "      <td>0.1415</td>\n",
              "      <td>0.210</td>\n",
              "      <td>9</td>\n",
              "    </tr>\n",
              "    <tr>\n",
              "      <th>3</th>\n",
              "      <td>M</td>\n",
              "      <td>0.440</td>\n",
              "      <td>0.365</td>\n",
              "      <td>0.125</td>\n",
              "      <td>0.5160</td>\n",
              "      <td>0.2155</td>\n",
              "      <td>0.1140</td>\n",
              "      <td>0.155</td>\n",
              "      <td>10</td>\n",
              "    </tr>\n",
              "    <tr>\n",
              "      <th>4</th>\n",
              "      <td>I</td>\n",
              "      <td>0.330</td>\n",
              "      <td>0.255</td>\n",
              "      <td>0.080</td>\n",
              "      <td>0.2050</td>\n",
              "      <td>0.0895</td>\n",
              "      <td>0.0395</td>\n",
              "      <td>0.055</td>\n",
              "      <td>7</td>\n",
              "    </tr>\n",
              "    <tr>\n",
              "      <th>5</th>\n",
              "      <td>I</td>\n",
              "      <td>0.425</td>\n",
              "      <td>0.300</td>\n",
              "      <td>0.095</td>\n",
              "      <td>0.3515</td>\n",
              "      <td>0.1410</td>\n",
              "      <td>0.0775</td>\n",
              "      <td>0.120</td>\n",
              "      <td>8</td>\n",
              "    </tr>\n",
              "  </tbody>\n",
              "</table>\n",
              "</div>"
            ],
            "text/plain": [
              "  Type  LongestShell  Diameter  ...  VisceraWeight  ShellWeight  Rings\n",
              "0    M         0.455     0.365  ...         0.1010        0.150     15\n",
              "1    M         0.350     0.265  ...         0.0485        0.070      7\n",
              "2    F         0.530     0.420  ...         0.1415        0.210      9\n",
              "3    M         0.440     0.365  ...         0.1140        0.155     10\n",
              "4    I         0.330     0.255  ...         0.0395        0.055      7\n",
              "5    I         0.425     0.300  ...         0.0775        0.120      8\n",
              "\n",
              "[6 rows x 9 columns]"
            ]
          },
          "metadata": {
            "tags": []
          },
          "execution_count": 259
        }
      ]
    },
    {
      "cell_type": "code",
      "metadata": {
        "colab": {
          "base_uri": "https://localhost:8080/"
        },
        "id": "kMYWavZcK7_B",
        "outputId": "71426e51-ef19-438e-fd52-03d4ffaadcd9"
      },
      "source": [
        "# Para exibir as 6 linhas inferiores (sem parâmetro = 5 linhas)\r\n",
        "tabela.tail(6) "
      ],
      "execution_count": null,
      "outputs": [
        {
          "output_type": "execute_result",
          "data": {
            "text/html": [
              "<div>\n",
              "<style scoped>\n",
              "    .dataframe tbody tr th:only-of-type {\n",
              "        vertical-align: middle;\n",
              "    }\n",
              "\n",
              "    .dataframe tbody tr th {\n",
              "        vertical-align: top;\n",
              "    }\n",
              "\n",
              "    .dataframe thead th {\n",
              "        text-align: right;\n",
              "    }\n",
              "</style>\n",
              "<table border=\"1\" class=\"dataframe\">\n",
              "  <thead>\n",
              "    <tr style=\"text-align: right;\">\n",
              "      <th></th>\n",
              "      <th>Type</th>\n",
              "      <th>LongestShell</th>\n",
              "      <th>Diameter</th>\n",
              "      <th>Height</th>\n",
              "      <th>WholeWeight</th>\n",
              "      <th>ShuckedWeight</th>\n",
              "      <th>VisceraWeight</th>\n",
              "      <th>ShellWeight</th>\n",
              "      <th>Rings</th>\n",
              "    </tr>\n",
              "  </thead>\n",
              "  <tbody>\n",
              "    <tr>\n",
              "      <th>4171</th>\n",
              "      <td>M</td>\n",
              "      <td>0.560</td>\n",
              "      <td>0.430</td>\n",
              "      <td>0.155</td>\n",
              "      <td>0.8675</td>\n",
              "      <td>0.4000</td>\n",
              "      <td>0.1720</td>\n",
              "      <td>0.2290</td>\n",
              "      <td>8</td>\n",
              "    </tr>\n",
              "    <tr>\n",
              "      <th>4172</th>\n",
              "      <td>F</td>\n",
              "      <td>0.565</td>\n",
              "      <td>0.450</td>\n",
              "      <td>0.165</td>\n",
              "      <td>0.8870</td>\n",
              "      <td>0.3700</td>\n",
              "      <td>0.2390</td>\n",
              "      <td>0.2490</td>\n",
              "      <td>11</td>\n",
              "    </tr>\n",
              "    <tr>\n",
              "      <th>4173</th>\n",
              "      <td>M</td>\n",
              "      <td>0.590</td>\n",
              "      <td>0.440</td>\n",
              "      <td>0.135</td>\n",
              "      <td>0.9660</td>\n",
              "      <td>0.4390</td>\n",
              "      <td>0.2145</td>\n",
              "      <td>0.2605</td>\n",
              "      <td>10</td>\n",
              "    </tr>\n",
              "    <tr>\n",
              "      <th>4174</th>\n",
              "      <td>M</td>\n",
              "      <td>0.600</td>\n",
              "      <td>0.475</td>\n",
              "      <td>0.205</td>\n",
              "      <td>1.1760</td>\n",
              "      <td>0.5255</td>\n",
              "      <td>0.2875</td>\n",
              "      <td>0.3080</td>\n",
              "      <td>9</td>\n",
              "    </tr>\n",
              "    <tr>\n",
              "      <th>4175</th>\n",
              "      <td>F</td>\n",
              "      <td>0.625</td>\n",
              "      <td>0.485</td>\n",
              "      <td>0.150</td>\n",
              "      <td>1.0945</td>\n",
              "      <td>0.5310</td>\n",
              "      <td>0.2610</td>\n",
              "      <td>0.2960</td>\n",
              "      <td>10</td>\n",
              "    </tr>\n",
              "    <tr>\n",
              "      <th>4176</th>\n",
              "      <td>M</td>\n",
              "      <td>0.710</td>\n",
              "      <td>0.555</td>\n",
              "      <td>0.195</td>\n",
              "      <td>1.9485</td>\n",
              "      <td>0.9455</td>\n",
              "      <td>0.3765</td>\n",
              "      <td>0.4950</td>\n",
              "      <td>12</td>\n",
              "    </tr>\n",
              "  </tbody>\n",
              "</table>\n",
              "</div>"
            ],
            "text/plain": [
              "     Type  LongestShell  Diameter  ...  VisceraWeight  ShellWeight  Rings\n",
              "4171    M         0.560     0.430  ...         0.1720       0.2290      8\n",
              "4172    F         0.565     0.450  ...         0.2390       0.2490     11\n",
              "4173    M         0.590     0.440  ...         0.2145       0.2605     10\n",
              "4174    M         0.600     0.475  ...         0.2875       0.3080      9\n",
              "4175    F         0.625     0.485  ...         0.2610       0.2960     10\n",
              "4176    M         0.710     0.555  ...         0.3765       0.4950     12\n",
              "\n",
              "[6 rows x 9 columns]"
            ]
          },
          "metadata": {
            "tags": []
          },
          "execution_count": 260
        }
      ]
    },
    {
      "cell_type": "code",
      "metadata": {
        "colab": {
          "base_uri": "https://localhost:8080/"
        },
        "id": "D-_KZfjkLER3",
        "outputId": "0c846653-324e-4882-8ade-4737c696a196"
      },
      "source": [
        "# Verificando o tipo de dados\r\n",
        "tabela.dtypes"
      ],
      "execution_count": null,
      "outputs": [
        {
          "output_type": "execute_result",
          "data": {
            "text/plain": [
              "Type              object\n",
              "LongestShell     float64\n",
              "Diameter         float64\n",
              "Height           float64\n",
              "WholeWeight      float64\n",
              "ShuckedWeight    float64\n",
              "VisceraWeight    float64\n",
              "ShellWeight      float64\n",
              "Rings              int64\n",
              "dtype: object"
            ]
          },
          "metadata": {
            "tags": []
          },
          "execution_count": 261
        }
      ]
    },
    {
      "cell_type": "code",
      "metadata": {
        "colab": {
          "base_uri": "https://localhost:8080/"
        },
        "id": "Ml0_MNK0LP6X",
        "outputId": "ee2046b2-2685-4f1c-e6c6-a07565eff501"
      },
      "source": [
        "# Número total de linhas e colunas\r\n",
        "tabela.shape"
      ],
      "execution_count": null,
      "outputs": [
        {
          "output_type": "execute_result",
          "data": {
            "text/plain": [
              "(4177, 9)"
            ]
          },
          "metadata": {
            "tags": []
          },
          "execution_count": 262
        }
      ]
    },
    {
      "cell_type": "code",
      "metadata": {
        "colab": {
          "base_uri": "https://localhost:8080/"
        },
        "id": "xaS9ME-QKXb2",
        "outputId": "743af9b2-0c6d-428f-96e2-3d8d6754e046"
      },
      "source": [
        "# Usado para contar o número de linhas antes de remover os dados\r\n",
        "tabela.count ()"
      ],
      "execution_count": null,
      "outputs": [
        {
          "output_type": "execute_result",
          "data": {
            "text/plain": [
              "Type             4177\n",
              "LongestShell     4177\n",
              "Diameter         4177\n",
              "Height           4177\n",
              "WholeWeight      4177\n",
              "ShuckedWeight    4177\n",
              "VisceraWeight    4177\n",
              "ShellWeight      4177\n",
              "Rings            4177\n",
              "dtype: int64"
            ]
          },
          "metadata": {
            "tags": []
          },
          "execution_count": 263
        }
      ]
    },
    {
      "cell_type": "code",
      "metadata": {
        "colab": {
          "base_uri": "https://localhost:8080/"
        },
        "id": "aAvjI6dgMnAR",
        "outputId": "565f073e-6ffa-4194-e530-bc2541a74199"
      },
      "source": [
        "# Encontrar os valores nulos. \r\n",
        "print (tabela.isnull (). sum ())"
      ],
      "execution_count": null,
      "outputs": [
        {
          "output_type": "stream",
          "text": [
            "Type             0\n",
            "LongestShell     0\n",
            "Diameter         0\n",
            "Height           0\n",
            "WholeWeight      0\n",
            "ShuckedWeight    0\n",
            "VisceraWeight    0\n",
            "ShellWeight      0\n",
            "Rings            0\n",
            "dtype: int64\n"
          ],
          "name": "stdout"
        }
      ]
    },
    {
      "cell_type": "markdown",
      "metadata": {
        "id": "jqNJ5h5NNI83"
      },
      "source": [
        "Como nâo foram identificados valores ausentes, não existe a necessidade de removê-los. \r\n"
      ]
    },
    {
      "cell_type": "code",
      "metadata": {
        "colab": {
          "base_uri": "https://localhost:8080/"
        },
        "id": "hB-pv5iTyxpw",
        "outputId": "30922503-e028-4417-a66c-1b5d6d9e3b21"
      },
      "source": [
        "#Visão geral dos dados\r\n",
        "tabela.describe()"
      ],
      "execution_count": null,
      "outputs": [
        {
          "output_type": "execute_result",
          "data": {
            "text/html": [
              "<div>\n",
              "<style scoped>\n",
              "    .dataframe tbody tr th:only-of-type {\n",
              "        vertical-align: middle;\n",
              "    }\n",
              "\n",
              "    .dataframe tbody tr th {\n",
              "        vertical-align: top;\n",
              "    }\n",
              "\n",
              "    .dataframe thead th {\n",
              "        text-align: right;\n",
              "    }\n",
              "</style>\n",
              "<table border=\"1\" class=\"dataframe\">\n",
              "  <thead>\n",
              "    <tr style=\"text-align: right;\">\n",
              "      <th></th>\n",
              "      <th>LongestShell</th>\n",
              "      <th>Diameter</th>\n",
              "      <th>Height</th>\n",
              "      <th>WholeWeight</th>\n",
              "      <th>ShuckedWeight</th>\n",
              "      <th>VisceraWeight</th>\n",
              "      <th>ShellWeight</th>\n",
              "      <th>Rings</th>\n",
              "    </tr>\n",
              "  </thead>\n",
              "  <tbody>\n",
              "    <tr>\n",
              "      <th>count</th>\n",
              "      <td>4177.000000</td>\n",
              "      <td>4177.000000</td>\n",
              "      <td>4177.000000</td>\n",
              "      <td>4177.000000</td>\n",
              "      <td>4177.000000</td>\n",
              "      <td>4177.000000</td>\n",
              "      <td>4177.000000</td>\n",
              "      <td>4177.000000</td>\n",
              "    </tr>\n",
              "    <tr>\n",
              "      <th>mean</th>\n",
              "      <td>0.523992</td>\n",
              "      <td>0.407881</td>\n",
              "      <td>0.139516</td>\n",
              "      <td>0.828742</td>\n",
              "      <td>0.359367</td>\n",
              "      <td>0.180594</td>\n",
              "      <td>0.238831</td>\n",
              "      <td>9.933684</td>\n",
              "    </tr>\n",
              "    <tr>\n",
              "      <th>std</th>\n",
              "      <td>0.120093</td>\n",
              "      <td>0.099240</td>\n",
              "      <td>0.041827</td>\n",
              "      <td>0.490389</td>\n",
              "      <td>0.221963</td>\n",
              "      <td>0.109614</td>\n",
              "      <td>0.139203</td>\n",
              "      <td>3.224169</td>\n",
              "    </tr>\n",
              "    <tr>\n",
              "      <th>min</th>\n",
              "      <td>0.075000</td>\n",
              "      <td>0.055000</td>\n",
              "      <td>0.000000</td>\n",
              "      <td>0.002000</td>\n",
              "      <td>0.001000</td>\n",
              "      <td>0.000500</td>\n",
              "      <td>0.001500</td>\n",
              "      <td>1.000000</td>\n",
              "    </tr>\n",
              "    <tr>\n",
              "      <th>25%</th>\n",
              "      <td>0.450000</td>\n",
              "      <td>0.350000</td>\n",
              "      <td>0.115000</td>\n",
              "      <td>0.441500</td>\n",
              "      <td>0.186000</td>\n",
              "      <td>0.093500</td>\n",
              "      <td>0.130000</td>\n",
              "      <td>8.000000</td>\n",
              "    </tr>\n",
              "    <tr>\n",
              "      <th>50%</th>\n",
              "      <td>0.545000</td>\n",
              "      <td>0.425000</td>\n",
              "      <td>0.140000</td>\n",
              "      <td>0.799500</td>\n",
              "      <td>0.336000</td>\n",
              "      <td>0.171000</td>\n",
              "      <td>0.234000</td>\n",
              "      <td>9.000000</td>\n",
              "    </tr>\n",
              "    <tr>\n",
              "      <th>75%</th>\n",
              "      <td>0.615000</td>\n",
              "      <td>0.480000</td>\n",
              "      <td>0.165000</td>\n",
              "      <td>1.153000</td>\n",
              "      <td>0.502000</td>\n",
              "      <td>0.253000</td>\n",
              "      <td>0.329000</td>\n",
              "      <td>11.000000</td>\n",
              "    </tr>\n",
              "    <tr>\n",
              "      <th>max</th>\n",
              "      <td>0.815000</td>\n",
              "      <td>0.650000</td>\n",
              "      <td>1.130000</td>\n",
              "      <td>2.825500</td>\n",
              "      <td>1.488000</td>\n",
              "      <td>0.760000</td>\n",
              "      <td>1.005000</td>\n",
              "      <td>29.000000</td>\n",
              "    </tr>\n",
              "  </tbody>\n",
              "</table>\n",
              "</div>"
            ],
            "text/plain": [
              "       LongestShell     Diameter  ...  ShellWeight        Rings\n",
              "count   4177.000000  4177.000000  ...  4177.000000  4177.000000\n",
              "mean       0.523992     0.407881  ...     0.238831     9.933684\n",
              "std        0.120093     0.099240  ...     0.139203     3.224169\n",
              "min        0.075000     0.055000  ...     0.001500     1.000000\n",
              "25%        0.450000     0.350000  ...     0.130000     8.000000\n",
              "50%        0.545000     0.425000  ...     0.234000     9.000000\n",
              "75%        0.615000     0.480000  ...     0.329000    11.000000\n",
              "max        0.815000     0.650000  ...     1.005000    29.000000\n",
              "\n",
              "[8 rows x 8 columns]"
            ]
          },
          "metadata": {
            "tags": []
          },
          "execution_count": 265
        }
      ]
    },
    {
      "cell_type": "markdown",
      "metadata": {
        "id": "-Zuks-8EZvI8"
      },
      "source": [
        "Abaixo iremos identificar os valores discrepantes (outliers) do dataframe:"
      ]
    },
    {
      "cell_type": "code",
      "metadata": {
        "colab": {
          "base_uri": "https://localhost:8080/"
        },
        "id": "SFR1ZL6jMwn3",
        "outputId": "379b536b-2ae7-47d8-b49f-21daa9a57a15"
      },
      "source": [
        "#Identificar valores discrepantes\r\n",
        "sns.boxplot(x=tabela['LongestShell'])"
      ],
      "execution_count": null,
      "outputs": [
        {
          "output_type": "execute_result",
          "data": {
            "text/plain": [
              "<matplotlib.axes._subplots.AxesSubplot at 0x7f795ae45cd0>"
            ]
          },
          "metadata": {
            "tags": []
          },
          "execution_count": 266
        },
        {
          "output_type": "display_data",
          "data": {
            "image/png": "[encoded data removed]",
            "text/plain": [
              "<Figure size 432x288 with 1 Axes>"
            ]
          },
          "metadata": {
            "tags": []
          }
        }
      ]
    },
    {
      "cell_type": "code",
      "metadata": {
        "colab": {
          "base_uri": "https://localhost:8080/"
        },
        "id": "dAUoPwFAPJYJ",
        "outputId": "ab27f601-ab98-46cb-ca75-5de968dd5579"
      },
      "source": [
        "#IQR Score Technique - Identificar e remover valores discrepantes\r\n",
        "sns.boxplot(x=tabela['Diameter'])"
      ],
      "execution_count": null,
      "outputs": [
        {
          "output_type": "execute_result",
          "data": {
            "text/plain": [
              "<matplotlib.axes._subplots.AxesSubplot at 0x7f795ae05450>"
            ]
          },
          "metadata": {
            "tags": []
          },
          "execution_count": 267
        },
        {
          "output_type": "display_data",
          "data": {
            "image/png": "[encoded data removed]",
            "text/plain": [
              "<Figure size 432x288 with 1 Axes>"
            ]
          },
          "metadata": {
            "tags": []
          }
        }
      ]
    },
    {
      "cell_type": "code",
      "metadata": {
        "colab": {
          "base_uri": "https://localhost:8080/"
        },
        "id": "qZJnNKmPPQ5o",
        "outputId": "6c812fea-6d25-4583-ccdc-dadb6d12ce64"
      },
      "source": [
        "#IQR Score Technique - Identificar e remover valores discrepantes\r\n",
        "sns.boxplot(x=tabela['Height'])"
      ],
      "execution_count": null,
      "outputs": [
        {
          "output_type": "execute_result",
          "data": {
            "text/plain": [
              "<matplotlib.axes._subplots.AxesSubplot at 0x7f795ad5d7d0>"
            ]
          },
          "metadata": {
            "tags": []
          },
          "execution_count": 268
        },
        {
          "output_type": "display_data",
          "data": {
            "image/png": "[encoded data removed]",
            "text/plain": [
              "<Figure size 432x288 with 1 Axes>"
            ]
          },
          "metadata": {
            "tags": []
          }
        }
      ]
    },
    {
      "cell_type": "code",
      "metadata": {
        "colab": {
          "base_uri": "https://localhost:8080/"
        },
        "id": "BMhyXqitPgG3",
        "outputId": "210fb6dd-4fab-486f-b0ac-0892fbd26412"
      },
      "source": [
        "#IQR Score Technique - Identificar e remover valores discrepantes\r\n",
        "sns.boxplot(x=tabela['WholeWeight'])"
      ],
      "execution_count": null,
      "outputs": [
        {
          "output_type": "execute_result",
          "data": {
            "text/plain": [
              "<matplotlib.axes._subplots.AxesSubplot at 0x7f795ad36e50>"
            ]
          },
          "metadata": {
            "tags": []
          },
          "execution_count": 269
        },
        {
          "output_type": "display_data",
          "data": {
            "image/png": "[encoded data removed]",
            "text/plain": [
              "<Figure size 432x288 with 1 Axes>"
            ]
          },
          "metadata": {
            "tags": []
          }
        }
      ]
    },
    {
      "cell_type": "code",
      "metadata": {
        "colab": {
          "base_uri": "https://localhost:8080/"
        },
        "id": "uIVtxe3YPozG",
        "outputId": "c245ee07-52b6-4d39-eb4d-5784a9bb9e28"
      },
      "source": [
        "#IQR Score Technique - Identificar e remover valores discrepantes\r\n",
        "sns.boxplot(x=tabela['ShuckedWeight'])"
      ],
      "execution_count": null,
      "outputs": [
        {
          "output_type": "execute_result",
          "data": {
            "text/plain": [
              "<matplotlib.axes._subplots.AxesSubplot at 0x7f795ac9cbd0>"
            ]
          },
          "metadata": {
            "tags": []
          },
          "execution_count": 270
        },
        {
          "output_type": "display_data",
          "data": {
            "image/png": "[encoded data removed]",
            "text/plain": [
              "<Figure size 432x288 with 1 Axes>"
            ]
          },
          "metadata": {
            "tags": []
          }
        }
      ]
    },
    {
      "cell_type": "code",
      "metadata": {
        "colab": {
          "base_uri": "https://localhost:8080/"
        },
        "id": "hIOohbJ5PpAv",
        "outputId": "01b7a188-4cbf-4f4a-fec8-0c53ca857e33"
      },
      "source": [
        "#IQR Score Technique - Identificar e remover valores discrepantes\r\n",
        "sns.boxplot(x=tabela['VisceraWeight'])"
      ],
      "execution_count": null,
      "outputs": [
        {
          "output_type": "execute_result",
          "data": {
            "text/plain": [
              "<matplotlib.axes._subplots.AxesSubplot at 0x7f795ac01dd0>"
            ]
          },
          "metadata": {
            "tags": []
          },
          "execution_count": 271
        },
        {
          "output_type": "display_data",
          "data": {
            "image/png": "[encoded data removed]",
            "text/plain": [
              "<Figure size 432x288 with 1 Axes>"
            ]
          },
          "metadata": {
            "tags": []
          }
        }
      ]
    },
    {
      "cell_type": "code",
      "metadata": {
        "colab": {
          "base_uri": "https://localhost:8080/"
        },
        "id": "SAd0SgIPPpGX",
        "outputId": "eac4400d-0365-4ca3-f808-11b4e0be4765"
      },
      "source": [
        "#IQR Score Technique - Identificar e remover valores discrepantes\r\n",
        "sns.boxplot(x=tabela['ShellWeight'])"
      ],
      "execution_count": null,
      "outputs": [
        {
          "output_type": "execute_result",
          "data": {
            "text/plain": [
              "<matplotlib.axes._subplots.AxesSubplot at 0x7f795ac3c750>"
            ]
          },
          "metadata": {
            "tags": []
          },
          "execution_count": 272
        },
        {
          "output_type": "display_data",
          "data": {
            "image/png": "[encoded data removed]",
            "text/plain": [
              "<Figure size 432x288 with 1 Axes>"
            ]
          },
          "metadata": {
            "tags": []
          }
        }
      ]
    },
    {
      "cell_type": "code",
      "metadata": {
        "colab": {
          "base_uri": "https://localhost:8080/"
        },
        "id": "AcFxbSSxP0pG",
        "outputId": "2e141609-6391-4096-acfe-41fb04dc8e36"
      },
      "source": [
        "#IQR Score Technique - Identificar e remover valores discrepantes\r\n",
        "sns.boxplot(x=tabela['Rings'])"
      ],
      "execution_count": null,
      "outputs": [
        {
          "output_type": "execute_result",
          "data": {
            "text/plain": [
              "<matplotlib.axes._subplots.AxesSubplot at 0x7f795ab874d0>"
            ]
          },
          "metadata": {
            "tags": []
          },
          "execution_count": 273
        },
        {
          "output_type": "display_data",
          "data": {
            "image/png": "[encoded data removed]",
            "text/plain": [
              "<Figure size 432x288 with 1 Axes>"
            ]
          },
          "metadata": {
            "tags": []
          }
        }
      ]
    },
    {
      "cell_type": "markdown",
      "metadata": {
        "id": "dycxGt2haF9W"
      },
      "source": [
        "Após identificados os outliers iremos removê-los, de forma que o dataframe final tenha valores que possam ser usados para a criação de um modelo mais preciso de regressão linear:"
      ]
    },
    {
      "cell_type": "code",
      "metadata": {
        "colab": {
          "base_uri": "https://localhost:8080/"
        },
        "id": "nWDN06i4lg_1",
        "outputId": "5e5fd0f0-81f3-4f86-cc04-0e69761ce89e"
      },
      "source": [
        "#Primeiramente iremos remover os outliers da coluna \"LongestShell\"\r\n",
        "#z_scores = scipy.stats.zscore(tabela)\r\n",
        "\r\n",
        "Q1 = tabela['LongestShell'].quantile(0.25)\r\n",
        "Q3 = tabela['LongestShell'].quantile(0.75)\r\n",
        "IQR = Q3 - Q1    #IQR is interquartile range. \r\n",
        "\r\n",
        "filter = (tabela['LongestShell'] >= Q1 - 1.5 * IQR) & (tabela['LongestShell'] <= Q3 + 1.5 *IQR)\r\n",
        "#O novo dataframe será armazenado em tabela1\r\n",
        "tabela1 = tabela.loc[filter]\r\n",
        "tabela1\r\n"
      ],
      "execution_count": null,
      "outputs": [
        {
          "output_type": "execute_result",
          "data": {
            "text/html": [
              "<div>\n",
              "<style scoped>\n",
              "    .dataframe tbody tr th:only-of-type {\n",
              "        vertical-align: middle;\n",
              "    }\n",
              "\n",
              "    .dataframe tbody tr th {\n",
              "        vertical-align: top;\n",
              "    }\n",
              "\n",
              "    .dataframe thead th {\n",
              "        text-align: right;\n",
              "    }\n",
              "</style>\n",
              "<table border=\"1\" class=\"dataframe\">\n",
              "  <thead>\n",
              "    <tr style=\"text-align: right;\">\n",
              "      <th></th>\n",
              "      <th>Type</th>\n",
              "      <th>LongestShell</th>\n",
              "      <th>Diameter</th>\n",
              "      <th>Height</th>\n",
              "      <th>WholeWeight</th>\n",
              "      <th>ShuckedWeight</th>\n",
              "      <th>VisceraWeight</th>\n",
              "      <th>ShellWeight</th>\n",
              "      <th>Rings</th>\n",
              "    </tr>\n",
              "  </thead>\n",
              "  <tbody>\n",
              "    <tr>\n",
              "      <th>0</th>\n",
              "      <td>M</td>\n",
              "      <td>0.455</td>\n",
              "      <td>0.365</td>\n",
              "      <td>0.095</td>\n",
              "      <td>0.5140</td>\n",
              "      <td>0.2245</td>\n",
              "      <td>0.1010</td>\n",
              "      <td>0.1500</td>\n",
              "      <td>15</td>\n",
              "    </tr>\n",
              "    <tr>\n",
              "      <th>1</th>\n",
              "      <td>M</td>\n",
              "      <td>0.350</td>\n",
              "      <td>0.265</td>\n",
              "      <td>0.090</td>\n",
              "      <td>0.2255</td>\n",
              "      <td>0.0995</td>\n",
              "      <td>0.0485</td>\n",
              "      <td>0.0700</td>\n",
              "      <td>7</td>\n",
              "    </tr>\n",
              "    <tr>\n",
              "      <th>2</th>\n",
              "      <td>F</td>\n",
              "      <td>0.530</td>\n",
              "      <td>0.420</td>\n",
              "      <td>0.135</td>\n",
              "      <td>0.6770</td>\n",
              "      <td>0.2565</td>\n",
              "      <td>0.1415</td>\n",
              "      <td>0.2100</td>\n",
              "      <td>9</td>\n",
              "    </tr>\n",
              "    <tr>\n",
              "      <th>3</th>\n",
              "      <td>M</td>\n",
              "      <td>0.440</td>\n",
              "      <td>0.365</td>\n",
              "      <td>0.125</td>\n",
              "      <td>0.5160</td>\n",
              "      <td>0.2155</td>\n",
              "      <td>0.1140</td>\n",
              "      <td>0.1550</td>\n",
              "      <td>10</td>\n",
              "    </tr>\n",
              "    <tr>\n",
              "      <th>4</th>\n",
              "      <td>I</td>\n",
              "      <td>0.330</td>\n",
              "      <td>0.255</td>\n",
              "      <td>0.080</td>\n",
              "      <td>0.2050</td>\n",
              "      <td>0.0895</td>\n",
              "      <td>0.0395</td>\n",
              "      <td>0.0550</td>\n",
              "      <td>7</td>\n",
              "    </tr>\n",
              "    <tr>\n",
              "      <th>...</th>\n",
              "      <td>...</td>\n",
              "      <td>...</td>\n",
              "      <td>...</td>\n",
              "      <td>...</td>\n",
              "      <td>...</td>\n",
              "      <td>...</td>\n",
              "      <td>...</td>\n",
              "      <td>...</td>\n",
              "      <td>...</td>\n",
              "    </tr>\n",
              "    <tr>\n",
              "      <th>4172</th>\n",
              "      <td>F</td>\n",
              "      <td>0.565</td>\n",
              "      <td>0.450</td>\n",
              "      <td>0.165</td>\n",
              "      <td>0.8870</td>\n",
              "      <td>0.3700</td>\n",
              "      <td>0.2390</td>\n",
              "      <td>0.2490</td>\n",
              "      <td>11</td>\n",
              "    </tr>\n",
              "    <tr>\n",
              "      <th>4173</th>\n",
              "      <td>M</td>\n",
              "      <td>0.590</td>\n",
              "      <td>0.440</td>\n",
              "      <td>0.135</td>\n",
              "      <td>0.9660</td>\n",
              "      <td>0.4390</td>\n",
              "      <td>0.2145</td>\n",
              "      <td>0.2605</td>\n",
              "      <td>10</td>\n",
              "    </tr>\n",
              "    <tr>\n",
              "      <th>4174</th>\n",
              "      <td>M</td>\n",
              "      <td>0.600</td>\n",
              "      <td>0.475</td>\n",
              "      <td>0.205</td>\n",
              "      <td>1.1760</td>\n",
              "      <td>0.5255</td>\n",
              "      <td>0.2875</td>\n",
              "      <td>0.3080</td>\n",
              "      <td>9</td>\n",
              "    </tr>\n",
              "    <tr>\n",
              "      <th>4175</th>\n",
              "      <td>F</td>\n",
              "      <td>0.625</td>\n",
              "      <td>0.485</td>\n",
              "      <td>0.150</td>\n",
              "      <td>1.0945</td>\n",
              "      <td>0.5310</td>\n",
              "      <td>0.2610</td>\n",
              "      <td>0.2960</td>\n",
              "      <td>10</td>\n",
              "    </tr>\n",
              "    <tr>\n",
              "      <th>4176</th>\n",
              "      <td>M</td>\n",
              "      <td>0.710</td>\n",
              "      <td>0.555</td>\n",
              "      <td>0.195</td>\n",
              "      <td>1.9485</td>\n",
              "      <td>0.9455</td>\n",
              "      <td>0.3765</td>\n",
              "      <td>0.4950</td>\n",
              "      <td>12</td>\n",
              "    </tr>\n",
              "  </tbody>\n",
              "</table>\n",
              "<p>4128 rows × 9 columns</p>\n",
              "</div>"
            ],
            "text/plain": [
              "     Type  LongestShell  Diameter  ...  VisceraWeight  ShellWeight  Rings\n",
              "0       M         0.455     0.365  ...         0.1010       0.1500     15\n",
              "1       M         0.350     0.265  ...         0.0485       0.0700      7\n",
              "2       F         0.530     0.420  ...         0.1415       0.2100      9\n",
              "3       M         0.440     0.365  ...         0.1140       0.1550     10\n",
              "4       I         0.330     0.255  ...         0.0395       0.0550      7\n",
              "...   ...           ...       ...  ...            ...          ...    ...\n",
              "4172    F         0.565     0.450  ...         0.2390       0.2490     11\n",
              "4173    M         0.590     0.440  ...         0.2145       0.2605     10\n",
              "4174    M         0.600     0.475  ...         0.2875       0.3080      9\n",
              "4175    F         0.625     0.485  ...         0.2610       0.2960     10\n",
              "4176    M         0.710     0.555  ...         0.3765       0.4950     12\n",
              "\n",
              "[4128 rows x 9 columns]"
            ]
          },
          "metadata": {
            "tags": []
          },
          "execution_count": 274
        }
      ]
    },
    {
      "cell_type": "code",
      "metadata": {
        "colab": {
          "base_uri": "https://localhost:8080/"
        },
        "id": "uRedUEQMbJrI",
        "outputId": "5aacdd6b-227e-4882-b868-db9ef40898e6"
      },
      "source": [
        "#Abaixo o dataframe sem outliers na coluna \"LongestShell\"\r\n",
        "sns.boxplot(x=tabela1['LongestShell'])"
      ],
      "execution_count": null,
      "outputs": [
        {
          "output_type": "execute_result",
          "data": {
            "text/plain": [
              "<matplotlib.axes._subplots.AxesSubplot at 0x7f795ab25ad0>"
            ]
          },
          "metadata": {
            "tags": []
          },
          "execution_count": 275
        },
        {
          "output_type": "display_data",
          "data": {
            "image/png": "[encoded data removed]",
            "text/plain": [
              "<Figure size 432x288 with 1 Axes>"
            ]
          },
          "metadata": {
            "tags": []
          }
        }
      ]
    },
    {
      "cell_type": "code",
      "metadata": {
        "colab": {
          "base_uri": "https://localhost:8080/"
        },
        "id": "BqJCqRWibyxO",
        "outputId": "9adba24b-e30b-4099-9c29-88af0c663909"
      },
      "source": [
        "# Removendo os outliers da coluna \"Diameter\"\r\n",
        "\r\n",
        "Q1 = tabela1['Diameter'].quantile(0.25)\r\n",
        "Q3 = tabela1['Diameter'].quantile(0.75)\r\n",
        "IQR = Q3 - Q1    #IQR is interquartile range. \r\n",
        "\r\n",
        "filter = (tabela1['Diameter'] >= Q1 - 1.5 * IQR) & (tabela1['Diameter'] <= Q3 + 1.5 *IQR)\r\n",
        "#O novo dataframe será armazenado em tabela2\r\n",
        "tabela2 = tabela1.loc[filter]\r\n",
        "tabela2"
      ],
      "execution_count": null,
      "outputs": [
        {
          "output_type": "execute_result",
          "data": {
            "text/html": [
              "<div>\n",
              "<style scoped>\n",
              "    .dataframe tbody tr th:only-of-type {\n",
              "        vertical-align: middle;\n",
              "    }\n",
              "\n",
              "    .dataframe tbody tr th {\n",
              "        vertical-align: top;\n",
              "    }\n",
              "\n",
              "    .dataframe thead th {\n",
              "        text-align: right;\n",
              "    }\n",
              "</style>\n",
              "<table border=\"1\" class=\"dataframe\">\n",
              "  <thead>\n",
              "    <tr style=\"text-align: right;\">\n",
              "      <th></th>\n",
              "      <th>Type</th>\n",
              "      <th>LongestShell</th>\n",
              "      <th>Diameter</th>\n",
              "      <th>Height</th>\n",
              "      <th>WholeWeight</th>\n",
              "      <th>ShuckedWeight</th>\n",
              "      <th>VisceraWeight</th>\n",
              "      <th>ShellWeight</th>\n",
              "      <th>Rings</th>\n",
              "    </tr>\n",
              "  </thead>\n",
              "  <tbody>\n",
              "    <tr>\n",
              "      <th>0</th>\n",
              "      <td>M</td>\n",
              "      <td>0.455</td>\n",
              "      <td>0.365</td>\n",
              "      <td>0.095</td>\n",
              "      <td>0.5140</td>\n",
              "      <td>0.2245</td>\n",
              "      <td>0.1010</td>\n",
              "      <td>0.1500</td>\n",
              "      <td>15</td>\n",
              "    </tr>\n",
              "    <tr>\n",
              "      <th>1</th>\n",
              "      <td>M</td>\n",
              "      <td>0.350</td>\n",
              "      <td>0.265</td>\n",
              "      <td>0.090</td>\n",
              "      <td>0.2255</td>\n",
              "      <td>0.0995</td>\n",
              "      <td>0.0485</td>\n",
              "      <td>0.0700</td>\n",
              "      <td>7</td>\n",
              "    </tr>\n",
              "    <tr>\n",
              "      <th>2</th>\n",
              "      <td>F</td>\n",
              "      <td>0.530</td>\n",
              "      <td>0.420</td>\n",
              "      <td>0.135</td>\n",
              "      <td>0.6770</td>\n",
              "      <td>0.2565</td>\n",
              "      <td>0.1415</td>\n",
              "      <td>0.2100</td>\n",
              "      <td>9</td>\n",
              "    </tr>\n",
              "    <tr>\n",
              "      <th>3</th>\n",
              "      <td>M</td>\n",
              "      <td>0.440</td>\n",
              "      <td>0.365</td>\n",
              "      <td>0.125</td>\n",
              "      <td>0.5160</td>\n",
              "      <td>0.2155</td>\n",
              "      <td>0.1140</td>\n",
              "      <td>0.1550</td>\n",
              "      <td>10</td>\n",
              "    </tr>\n",
              "    <tr>\n",
              "      <th>4</th>\n",
              "      <td>I</td>\n",
              "      <td>0.330</td>\n",
              "      <td>0.255</td>\n",
              "      <td>0.080</td>\n",
              "      <td>0.2050</td>\n",
              "      <td>0.0895</td>\n",
              "      <td>0.0395</td>\n",
              "      <td>0.0550</td>\n",
              "      <td>7</td>\n",
              "    </tr>\n",
              "    <tr>\n",
              "      <th>...</th>\n",
              "      <td>...</td>\n",
              "      <td>...</td>\n",
              "      <td>...</td>\n",
              "      <td>...</td>\n",
              "      <td>...</td>\n",
              "      <td>...</td>\n",
              "      <td>...</td>\n",
              "      <td>...</td>\n",
              "      <td>...</td>\n",
              "    </tr>\n",
              "    <tr>\n",
              "      <th>4172</th>\n",
              "      <td>F</td>\n",
              "      <td>0.565</td>\n",
              "      <td>0.450</td>\n",
              "      <td>0.165</td>\n",
              "      <td>0.8870</td>\n",
              "      <td>0.3700</td>\n",
              "      <td>0.2390</td>\n",
              "      <td>0.2490</td>\n",
              "      <td>11</td>\n",
              "    </tr>\n",
              "    <tr>\n",
              "      <th>4173</th>\n",
              "      <td>M</td>\n",
              "      <td>0.590</td>\n",
              "      <td>0.440</td>\n",
              "      <td>0.135</td>\n",
              "      <td>0.9660</td>\n",
              "      <td>0.4390</td>\n",
              "      <td>0.2145</td>\n",
              "      <td>0.2605</td>\n",
              "      <td>10</td>\n",
              "    </tr>\n",
              "    <tr>\n",
              "      <th>4174</th>\n",
              "      <td>M</td>\n",
              "      <td>0.600</td>\n",
              "      <td>0.475</td>\n",
              "      <td>0.205</td>\n",
              "      <td>1.1760</td>\n",
              "      <td>0.5255</td>\n",
              "      <td>0.2875</td>\n",
              "      <td>0.3080</td>\n",
              "      <td>9</td>\n",
              "    </tr>\n",
              "    <tr>\n",
              "      <th>4175</th>\n",
              "      <td>F</td>\n",
              "      <td>0.625</td>\n",
              "      <td>0.485</td>\n",
              "      <td>0.150</td>\n",
              "      <td>1.0945</td>\n",
              "      <td>0.5310</td>\n",
              "      <td>0.2610</td>\n",
              "      <td>0.2960</td>\n",
              "      <td>10</td>\n",
              "    </tr>\n",
              "    <tr>\n",
              "      <th>4176</th>\n",
              "      <td>M</td>\n",
              "      <td>0.710</td>\n",
              "      <td>0.555</td>\n",
              "      <td>0.195</td>\n",
              "      <td>1.9485</td>\n",
              "      <td>0.9455</td>\n",
              "      <td>0.3765</td>\n",
              "      <td>0.4950</td>\n",
              "      <td>12</td>\n",
              "    </tr>\n",
              "  </tbody>\n",
              "</table>\n",
              "<p>4116 rows × 9 columns</p>\n",
              "</div>"
            ],
            "text/plain": [
              "     Type  LongestShell  Diameter  ...  VisceraWeight  ShellWeight  Rings\n",
              "0       M         0.455     0.365  ...         0.1010       0.1500     15\n",
              "1       M         0.350     0.265  ...         0.0485       0.0700      7\n",
              "2       F         0.530     0.420  ...         0.1415       0.2100      9\n",
              "3       M         0.440     0.365  ...         0.1140       0.1550     10\n",
              "4       I         0.330     0.255  ...         0.0395       0.0550      7\n",
              "...   ...           ...       ...  ...            ...          ...    ...\n",
              "4172    F         0.565     0.450  ...         0.2390       0.2490     11\n",
              "4173    M         0.590     0.440  ...         0.2145       0.2605     10\n",
              "4174    M         0.600     0.475  ...         0.2875       0.3080      9\n",
              "4175    F         0.625     0.485  ...         0.2610       0.2960     10\n",
              "4176    M         0.710     0.555  ...         0.3765       0.4950     12\n",
              "\n",
              "[4116 rows x 9 columns]"
            ]
          },
          "metadata": {
            "tags": []
          },
          "execution_count": 276
        }
      ]
    },
    {
      "cell_type": "code",
      "metadata": {
        "colab": {
          "base_uri": "https://localhost:8080/"
        },
        "id": "HrhmZsi-c4Vy",
        "outputId": "e3329251-ca66-4171-bbae-b38309f984ba"
      },
      "source": [
        "#Abaixo o dataframe sem outliers na coluna \"Diameter\"\r\n",
        "sns.boxplot(x=tabela2['Diameter'])"
      ],
      "execution_count": null,
      "outputs": [
        {
          "output_type": "execute_result",
          "data": {
            "text/plain": [
              "<matplotlib.axes._subplots.AxesSubplot at 0x7f795aaa5b50>"
            ]
          },
          "metadata": {
            "tags": []
          },
          "execution_count": 277
        },
        {
          "output_type": "display_data",
          "data": {
            "image/png": "[encoded data removed]",
            "text/plain": [
              "<Figure size 432x288 with 1 Axes>"
            ]
          },
          "metadata": {
            "tags": []
          }
        }
      ]
    },
    {
      "cell_type": "code",
      "metadata": {
        "colab": {
          "base_uri": "https://localhost:8080/"
        },
        "id": "qC-nRS0rdZYp",
        "outputId": "6d5238eb-ba38-47c4-e674-d4a6dccad877"
      },
      "source": [
        "# Removendo os outliers da coluna \"Height\"\r\n",
        "\r\n",
        "Q1 = tabela2['Height'].quantile(0.25)\r\n",
        "Q3 = tabela2['Height'].quantile(0.75)\r\n",
        "IQR = Q3 - Q1    #IQR is interquartile range. \r\n",
        "\r\n",
        "filter = (tabela2['Height'] >= Q1 - 1.5 * IQR) & (tabela2['Height'] <= Q3 + 1.5 *IQR)\r\n",
        "#O novo dataframe será armazenado em tabela3\r\n",
        "tabela3 = tabela2.loc[filter]\r\n",
        "tabela3"
      ],
      "execution_count": null,
      "outputs": [
        {
          "output_type": "execute_result",
          "data": {
            "text/html": [
              "<div>\n",
              "<style scoped>\n",
              "    .dataframe tbody tr th:only-of-type {\n",
              "        vertical-align: middle;\n",
              "    }\n",
              "\n",
              "    .dataframe tbody tr th {\n",
              "        vertical-align: top;\n",
              "    }\n",
              "\n",
              "    .dataframe thead th {\n",
              "        text-align: right;\n",
              "    }\n",
              "</style>\n",
              "<table border=\"1\" class=\"dataframe\">\n",
              "  <thead>\n",
              "    <tr style=\"text-align: right;\">\n",
              "      <th></th>\n",
              "      <th>Type</th>\n",
              "      <th>LongestShell</th>\n",
              "      <th>Diameter</th>\n",
              "      <th>Height</th>\n",
              "      <th>WholeWeight</th>\n",
              "      <th>ShuckedWeight</th>\n",
              "      <th>VisceraWeight</th>\n",
              "      <th>ShellWeight</th>\n",
              "      <th>Rings</th>\n",
              "    </tr>\n",
              "  </thead>\n",
              "  <tbody>\n",
              "    <tr>\n",
              "      <th>0</th>\n",
              "      <td>M</td>\n",
              "      <td>0.455</td>\n",
              "      <td>0.365</td>\n",
              "      <td>0.095</td>\n",
              "      <td>0.5140</td>\n",
              "      <td>0.2245</td>\n",
              "      <td>0.1010</td>\n",
              "      <td>0.1500</td>\n",
              "      <td>15</td>\n",
              "    </tr>\n",
              "    <tr>\n",
              "      <th>1</th>\n",
              "      <td>M</td>\n",
              "      <td>0.350</td>\n",
              "      <td>0.265</td>\n",
              "      <td>0.090</td>\n",
              "      <td>0.2255</td>\n",
              "      <td>0.0995</td>\n",
              "      <td>0.0485</td>\n",
              "      <td>0.0700</td>\n",
              "      <td>7</td>\n",
              "    </tr>\n",
              "    <tr>\n",
              "      <th>2</th>\n",
              "      <td>F</td>\n",
              "      <td>0.530</td>\n",
              "      <td>0.420</td>\n",
              "      <td>0.135</td>\n",
              "      <td>0.6770</td>\n",
              "      <td>0.2565</td>\n",
              "      <td>0.1415</td>\n",
              "      <td>0.2100</td>\n",
              "      <td>9</td>\n",
              "    </tr>\n",
              "    <tr>\n",
              "      <th>3</th>\n",
              "      <td>M</td>\n",
              "      <td>0.440</td>\n",
              "      <td>0.365</td>\n",
              "      <td>0.125</td>\n",
              "      <td>0.5160</td>\n",
              "      <td>0.2155</td>\n",
              "      <td>0.1140</td>\n",
              "      <td>0.1550</td>\n",
              "      <td>10</td>\n",
              "    </tr>\n",
              "    <tr>\n",
              "      <th>4</th>\n",
              "      <td>I</td>\n",
              "      <td>0.330</td>\n",
              "      <td>0.255</td>\n",
              "      <td>0.080</td>\n",
              "      <td>0.2050</td>\n",
              "      <td>0.0895</td>\n",
              "      <td>0.0395</td>\n",
              "      <td>0.0550</td>\n",
              "      <td>7</td>\n",
              "    </tr>\n",
              "    <tr>\n",
              "      <th>...</th>\n",
              "      <td>...</td>\n",
              "      <td>...</td>\n",
              "      <td>...</td>\n",
              "      <td>...</td>\n",
              "      <td>...</td>\n",
              "      <td>...</td>\n",
              "      <td>...</td>\n",
              "      <td>...</td>\n",
              "      <td>...</td>\n",
              "    </tr>\n",
              "    <tr>\n",
              "      <th>4172</th>\n",
              "      <td>F</td>\n",
              "      <td>0.565</td>\n",
              "      <td>0.450</td>\n",
              "      <td>0.165</td>\n",
              "      <td>0.8870</td>\n",
              "      <td>0.3700</td>\n",
              "      <td>0.2390</td>\n",
              "      <td>0.2490</td>\n",
              "      <td>11</td>\n",
              "    </tr>\n",
              "    <tr>\n",
              "      <th>4173</th>\n",
              "      <td>M</td>\n",
              "      <td>0.590</td>\n",
              "      <td>0.440</td>\n",
              "      <td>0.135</td>\n",
              "      <td>0.9660</td>\n",
              "      <td>0.4390</td>\n",
              "      <td>0.2145</td>\n",
              "      <td>0.2605</td>\n",
              "      <td>10</td>\n",
              "    </tr>\n",
              "    <tr>\n",
              "      <th>4174</th>\n",
              "      <td>M</td>\n",
              "      <td>0.600</td>\n",
              "      <td>0.475</td>\n",
              "      <td>0.205</td>\n",
              "      <td>1.1760</td>\n",
              "      <td>0.5255</td>\n",
              "      <td>0.2875</td>\n",
              "      <td>0.3080</td>\n",
              "      <td>9</td>\n",
              "    </tr>\n",
              "    <tr>\n",
              "      <th>4175</th>\n",
              "      <td>F</td>\n",
              "      <td>0.625</td>\n",
              "      <td>0.485</td>\n",
              "      <td>0.150</td>\n",
              "      <td>1.0945</td>\n",
              "      <td>0.5310</td>\n",
              "      <td>0.2610</td>\n",
              "      <td>0.2960</td>\n",
              "      <td>10</td>\n",
              "    </tr>\n",
              "    <tr>\n",
              "      <th>4176</th>\n",
              "      <td>M</td>\n",
              "      <td>0.710</td>\n",
              "      <td>0.555</td>\n",
              "      <td>0.195</td>\n",
              "      <td>1.9485</td>\n",
              "      <td>0.9455</td>\n",
              "      <td>0.3765</td>\n",
              "      <td>0.4950</td>\n",
              "      <td>12</td>\n",
              "    </tr>\n",
              "  </tbody>\n",
              "</table>\n",
              "<p>4108 rows × 9 columns</p>\n",
              "</div>"
            ],
            "text/plain": [
              "     Type  LongestShell  Diameter  ...  VisceraWeight  ShellWeight  Rings\n",
              "0       M         0.455     0.365  ...         0.1010       0.1500     15\n",
              "1       M         0.350     0.265  ...         0.0485       0.0700      7\n",
              "2       F         0.530     0.420  ...         0.1415       0.2100      9\n",
              "3       M         0.440     0.365  ...         0.1140       0.1550     10\n",
              "4       I         0.330     0.255  ...         0.0395       0.0550      7\n",
              "...   ...           ...       ...  ...            ...          ...    ...\n",
              "4172    F         0.565     0.450  ...         0.2390       0.2490     11\n",
              "4173    M         0.590     0.440  ...         0.2145       0.2605     10\n",
              "4174    M         0.600     0.475  ...         0.2875       0.3080      9\n",
              "4175    F         0.625     0.485  ...         0.2610       0.2960     10\n",
              "4176    M         0.710     0.555  ...         0.3765       0.4950     12\n",
              "\n",
              "[4108 rows x 9 columns]"
            ]
          },
          "metadata": {
            "tags": []
          },
          "execution_count": 278
        }
      ]
    },
    {
      "cell_type": "code",
      "metadata": {
        "colab": {
          "base_uri": "https://localhost:8080/"
        },
        "id": "FQ4MqROzdvSq",
        "outputId": "8dac2ecc-0b26-40c2-a2fc-df8cf1517cb4"
      },
      "source": [
        "#Abaixo o dataframe sem outliers na coluna \"Height\"\r\n",
        "sns.boxplot(x=tabela3['Height'])"
      ],
      "execution_count": null,
      "outputs": [
        {
          "output_type": "execute_result",
          "data": {
            "text/plain": [
              "<matplotlib.axes._subplots.AxesSubplot at 0x7f795aa01b50>"
            ]
          },
          "metadata": {
            "tags": []
          },
          "execution_count": 279
        },
        {
          "output_type": "display_data",
          "data": {
            "image/png": "[encoded data removed]",
            "text/plain": [
              "<Figure size 432x288 with 1 Axes>"
            ]
          },
          "metadata": {
            "tags": []
          }
        }
      ]
    },
    {
      "cell_type": "code",
      "metadata": {
        "colab": {
          "base_uri": "https://localhost:8080/"
        },
        "id": "XqoI6tTBd5RD",
        "outputId": "bfe1c00c-786a-4bcd-cc7e-4034cd65476b"
      },
      "source": [
        "# Removendo os outliers da coluna \"WholeWeight\"\r\n",
        "\r\n",
        "Q1 = tabela3['WholeWeight'].quantile(0.25)\r\n",
        "Q3 = tabela3['WholeWeight'].quantile(0.75)\r\n",
        "IQR = Q3 - Q1    #IQR is interquartile range. \r\n",
        "\r\n",
        "filter = (tabela3['WholeWeight'] >= Q1 - 1.5 * IQR) & (tabela3['WholeWeight'] <= Q3 + 1.5 *IQR)\r\n",
        "#O novo dataframe será armazenado em tabela4\r\n",
        "tabela4 = tabela3.loc[filter]\r\n",
        "tabela4"
      ],
      "execution_count": null,
      "outputs": [
        {
          "output_type": "execute_result",
          "data": {
            "text/html": [
              "<div>\n",
              "<style scoped>\n",
              "    .dataframe tbody tr th:only-of-type {\n",
              "        vertical-align: middle;\n",
              "    }\n",
              "\n",
              "    .dataframe tbody tr th {\n",
              "        vertical-align: top;\n",
              "    }\n",
              "\n",
              "    .dataframe thead th {\n",
              "        text-align: right;\n",
              "    }\n",
              "</style>\n",
              "<table border=\"1\" class=\"dataframe\">\n",
              "  <thead>\n",
              "    <tr style=\"text-align: right;\">\n",
              "      <th></th>\n",
              "      <th>Type</th>\n",
              "      <th>LongestShell</th>\n",
              "      <th>Diameter</th>\n",
              "      <th>Height</th>\n",
              "      <th>WholeWeight</th>\n",
              "      <th>ShuckedWeight</th>\n",
              "      <th>VisceraWeight</th>\n",
              "      <th>ShellWeight</th>\n",
              "      <th>Rings</th>\n",
              "    </tr>\n",
              "  </thead>\n",
              "  <tbody>\n",
              "    <tr>\n",
              "      <th>0</th>\n",
              "      <td>M</td>\n",
              "      <td>0.455</td>\n",
              "      <td>0.365</td>\n",
              "      <td>0.095</td>\n",
              "      <td>0.5140</td>\n",
              "      <td>0.2245</td>\n",
              "      <td>0.1010</td>\n",
              "      <td>0.1500</td>\n",
              "      <td>15</td>\n",
              "    </tr>\n",
              "    <tr>\n",
              "      <th>1</th>\n",
              "      <td>M</td>\n",
              "      <td>0.350</td>\n",
              "      <td>0.265</td>\n",
              "      <td>0.090</td>\n",
              "      <td>0.2255</td>\n",
              "      <td>0.0995</td>\n",
              "      <td>0.0485</td>\n",
              "      <td>0.0700</td>\n",
              "      <td>7</td>\n",
              "    </tr>\n",
              "    <tr>\n",
              "      <th>2</th>\n",
              "      <td>F</td>\n",
              "      <td>0.530</td>\n",
              "      <td>0.420</td>\n",
              "      <td>0.135</td>\n",
              "      <td>0.6770</td>\n",
              "      <td>0.2565</td>\n",
              "      <td>0.1415</td>\n",
              "      <td>0.2100</td>\n",
              "      <td>9</td>\n",
              "    </tr>\n",
              "    <tr>\n",
              "      <th>3</th>\n",
              "      <td>M</td>\n",
              "      <td>0.440</td>\n",
              "      <td>0.365</td>\n",
              "      <td>0.125</td>\n",
              "      <td>0.5160</td>\n",
              "      <td>0.2155</td>\n",
              "      <td>0.1140</td>\n",
              "      <td>0.1550</td>\n",
              "      <td>10</td>\n",
              "    </tr>\n",
              "    <tr>\n",
              "      <th>4</th>\n",
              "      <td>I</td>\n",
              "      <td>0.330</td>\n",
              "      <td>0.255</td>\n",
              "      <td>0.080</td>\n",
              "      <td>0.2050</td>\n",
              "      <td>0.0895</td>\n",
              "      <td>0.0395</td>\n",
              "      <td>0.0550</td>\n",
              "      <td>7</td>\n",
              "    </tr>\n",
              "    <tr>\n",
              "      <th>...</th>\n",
              "      <td>...</td>\n",
              "      <td>...</td>\n",
              "      <td>...</td>\n",
              "      <td>...</td>\n",
              "      <td>...</td>\n",
              "      <td>...</td>\n",
              "      <td>...</td>\n",
              "      <td>...</td>\n",
              "      <td>...</td>\n",
              "    </tr>\n",
              "    <tr>\n",
              "      <th>4172</th>\n",
              "      <td>F</td>\n",
              "      <td>0.565</td>\n",
              "      <td>0.450</td>\n",
              "      <td>0.165</td>\n",
              "      <td>0.8870</td>\n",
              "      <td>0.3700</td>\n",
              "      <td>0.2390</td>\n",
              "      <td>0.2490</td>\n",
              "      <td>11</td>\n",
              "    </tr>\n",
              "    <tr>\n",
              "      <th>4173</th>\n",
              "      <td>M</td>\n",
              "      <td>0.590</td>\n",
              "      <td>0.440</td>\n",
              "      <td>0.135</td>\n",
              "      <td>0.9660</td>\n",
              "      <td>0.4390</td>\n",
              "      <td>0.2145</td>\n",
              "      <td>0.2605</td>\n",
              "      <td>10</td>\n",
              "    </tr>\n",
              "    <tr>\n",
              "      <th>4174</th>\n",
              "      <td>M</td>\n",
              "      <td>0.600</td>\n",
              "      <td>0.475</td>\n",
              "      <td>0.205</td>\n",
              "      <td>1.1760</td>\n",
              "      <td>0.5255</td>\n",
              "      <td>0.2875</td>\n",
              "      <td>0.3080</td>\n",
              "      <td>9</td>\n",
              "    </tr>\n",
              "    <tr>\n",
              "      <th>4175</th>\n",
              "      <td>F</td>\n",
              "      <td>0.625</td>\n",
              "      <td>0.485</td>\n",
              "      <td>0.150</td>\n",
              "      <td>1.0945</td>\n",
              "      <td>0.5310</td>\n",
              "      <td>0.2610</td>\n",
              "      <td>0.2960</td>\n",
              "      <td>10</td>\n",
              "    </tr>\n",
              "    <tr>\n",
              "      <th>4176</th>\n",
              "      <td>M</td>\n",
              "      <td>0.710</td>\n",
              "      <td>0.555</td>\n",
              "      <td>0.195</td>\n",
              "      <td>1.9485</td>\n",
              "      <td>0.9455</td>\n",
              "      <td>0.3765</td>\n",
              "      <td>0.4950</td>\n",
              "      <td>12</td>\n",
              "    </tr>\n",
              "  </tbody>\n",
              "</table>\n",
              "<p>4080 rows × 9 columns</p>\n",
              "</div>"
            ],
            "text/plain": [
              "     Type  LongestShell  Diameter  ...  VisceraWeight  ShellWeight  Rings\n",
              "0       M         0.455     0.365  ...         0.1010       0.1500     15\n",
              "1       M         0.350     0.265  ...         0.0485       0.0700      7\n",
              "2       F         0.530     0.420  ...         0.1415       0.2100      9\n",
              "3       M         0.440     0.365  ...         0.1140       0.1550     10\n",
              "4       I         0.330     0.255  ...         0.0395       0.0550      7\n",
              "...   ...           ...       ...  ...            ...          ...    ...\n",
              "4172    F         0.565     0.450  ...         0.2390       0.2490     11\n",
              "4173    M         0.590     0.440  ...         0.2145       0.2605     10\n",
              "4174    M         0.600     0.475  ...         0.2875       0.3080      9\n",
              "4175    F         0.625     0.485  ...         0.2610       0.2960     10\n",
              "4176    M         0.710     0.555  ...         0.3765       0.4950     12\n",
              "\n",
              "[4080 rows x 9 columns]"
            ]
          },
          "metadata": {
            "tags": []
          },
          "execution_count": 280
        }
      ]
    },
    {
      "cell_type": "code",
      "metadata": {
        "colab": {
          "base_uri": "https://localhost:8080/"
        },
        "id": "L8wV48bueTci",
        "outputId": "a5b74ff3-5a9d-45b1-adca-f755e339c6ef"
      },
      "source": [
        "#Abaixo o dataframe sem outliers na coluna \"WholeWeight\"\r\n",
        "sns.boxplot(x=tabela4['WholeWeight'])"
      ],
      "execution_count": null,
      "outputs": [
        {
          "output_type": "execute_result",
          "data": {
            "text/plain": [
              "<matplotlib.axes._subplots.AxesSubplot at 0x7f795a9dcdd0>"
            ]
          },
          "metadata": {
            "tags": []
          },
          "execution_count": 281
        },
        {
          "output_type": "display_data",
          "data": {
            "image/png": "[encoded data removed]",
            "text/plain": [
              "<Figure size 432x288 with 1 Axes>"
            ]
          },
          "metadata": {
            "tags": []
          }
        }
      ]
    },
    {
      "cell_type": "code",
      "metadata": {
        "colab": {
          "base_uri": "https://localhost:8080/"
        },
        "id": "Y44_7fFbehIq",
        "outputId": "0f0f4600-c828-45c7-df70-9448a170e53e"
      },
      "source": [
        "# Removendo os outliers da coluna \"ShuckedWeight\"\r\n",
        "\r\n",
        "Q1 = tabela4['ShuckedWeight'].quantile(0.25)\r\n",
        "Q3 = tabela4['ShuckedWeight'].quantile(0.75)\r\n",
        "IQR = Q3 - Q1    #IQR is interquartile range. \r\n",
        "\r\n",
        "filter = (tabela4['ShuckedWeight'] >= Q1 - 1.5 * IQR) & (tabela3['ShuckedWeight'] <= Q3 + 1.5 *IQR)\r\n",
        "#O novo dataframe será armazenado em tabela5\r\n",
        "tabela5 = tabela4.loc[filter]\r\n",
        "tabela5"
      ],
      "execution_count": null,
      "outputs": [
        {
          "output_type": "execute_result",
          "data": {
            "text/html": [
              "<div>\n",
              "<style scoped>\n",
              "    .dataframe tbody tr th:only-of-type {\n",
              "        vertical-align: middle;\n",
              "    }\n",
              "\n",
              "    .dataframe tbody tr th {\n",
              "        vertical-align: top;\n",
              "    }\n",
              "\n",
              "    .dataframe thead th {\n",
              "        text-align: right;\n",
              "    }\n",
              "</style>\n",
              "<table border=\"1\" class=\"dataframe\">\n",
              "  <thead>\n",
              "    <tr style=\"text-align: right;\">\n",
              "      <th></th>\n",
              "      <th>Type</th>\n",
              "      <th>LongestShell</th>\n",
              "      <th>Diameter</th>\n",
              "      <th>Height</th>\n",
              "      <th>WholeWeight</th>\n",
              "      <th>ShuckedWeight</th>\n",
              "      <th>VisceraWeight</th>\n",
              "      <th>ShellWeight</th>\n",
              "      <th>Rings</th>\n",
              "    </tr>\n",
              "  </thead>\n",
              "  <tbody>\n",
              "    <tr>\n",
              "      <th>0</th>\n",
              "      <td>M</td>\n",
              "      <td>0.455</td>\n",
              "      <td>0.365</td>\n",
              "      <td>0.095</td>\n",
              "      <td>0.5140</td>\n",
              "      <td>0.2245</td>\n",
              "      <td>0.1010</td>\n",
              "      <td>0.1500</td>\n",
              "      <td>15</td>\n",
              "    </tr>\n",
              "    <tr>\n",
              "      <th>1</th>\n",
              "      <td>M</td>\n",
              "      <td>0.350</td>\n",
              "      <td>0.265</td>\n",
              "      <td>0.090</td>\n",
              "      <td>0.2255</td>\n",
              "      <td>0.0995</td>\n",
              "      <td>0.0485</td>\n",
              "      <td>0.0700</td>\n",
              "      <td>7</td>\n",
              "    </tr>\n",
              "    <tr>\n",
              "      <th>2</th>\n",
              "      <td>F</td>\n",
              "      <td>0.530</td>\n",
              "      <td>0.420</td>\n",
              "      <td>0.135</td>\n",
              "      <td>0.6770</td>\n",
              "      <td>0.2565</td>\n",
              "      <td>0.1415</td>\n",
              "      <td>0.2100</td>\n",
              "      <td>9</td>\n",
              "    </tr>\n",
              "    <tr>\n",
              "      <th>3</th>\n",
              "      <td>M</td>\n",
              "      <td>0.440</td>\n",
              "      <td>0.365</td>\n",
              "      <td>0.125</td>\n",
              "      <td>0.5160</td>\n",
              "      <td>0.2155</td>\n",
              "      <td>0.1140</td>\n",
              "      <td>0.1550</td>\n",
              "      <td>10</td>\n",
              "    </tr>\n",
              "    <tr>\n",
              "      <th>4</th>\n",
              "      <td>I</td>\n",
              "      <td>0.330</td>\n",
              "      <td>0.255</td>\n",
              "      <td>0.080</td>\n",
              "      <td>0.2050</td>\n",
              "      <td>0.0895</td>\n",
              "      <td>0.0395</td>\n",
              "      <td>0.0550</td>\n",
              "      <td>7</td>\n",
              "    </tr>\n",
              "    <tr>\n",
              "      <th>...</th>\n",
              "      <td>...</td>\n",
              "      <td>...</td>\n",
              "      <td>...</td>\n",
              "      <td>...</td>\n",
              "      <td>...</td>\n",
              "      <td>...</td>\n",
              "      <td>...</td>\n",
              "      <td>...</td>\n",
              "      <td>...</td>\n",
              "    </tr>\n",
              "    <tr>\n",
              "      <th>4172</th>\n",
              "      <td>F</td>\n",
              "      <td>0.565</td>\n",
              "      <td>0.450</td>\n",
              "      <td>0.165</td>\n",
              "      <td>0.8870</td>\n",
              "      <td>0.3700</td>\n",
              "      <td>0.2390</td>\n",
              "      <td>0.2490</td>\n",
              "      <td>11</td>\n",
              "    </tr>\n",
              "    <tr>\n",
              "      <th>4173</th>\n",
              "      <td>M</td>\n",
              "      <td>0.590</td>\n",
              "      <td>0.440</td>\n",
              "      <td>0.135</td>\n",
              "      <td>0.9660</td>\n",
              "      <td>0.4390</td>\n",
              "      <td>0.2145</td>\n",
              "      <td>0.2605</td>\n",
              "      <td>10</td>\n",
              "    </tr>\n",
              "    <tr>\n",
              "      <th>4174</th>\n",
              "      <td>M</td>\n",
              "      <td>0.600</td>\n",
              "      <td>0.475</td>\n",
              "      <td>0.205</td>\n",
              "      <td>1.1760</td>\n",
              "      <td>0.5255</td>\n",
              "      <td>0.2875</td>\n",
              "      <td>0.3080</td>\n",
              "      <td>9</td>\n",
              "    </tr>\n",
              "    <tr>\n",
              "      <th>4175</th>\n",
              "      <td>F</td>\n",
              "      <td>0.625</td>\n",
              "      <td>0.485</td>\n",
              "      <td>0.150</td>\n",
              "      <td>1.0945</td>\n",
              "      <td>0.5310</td>\n",
              "      <td>0.2610</td>\n",
              "      <td>0.2960</td>\n",
              "      <td>10</td>\n",
              "    </tr>\n",
              "    <tr>\n",
              "      <th>4176</th>\n",
              "      <td>M</td>\n",
              "      <td>0.710</td>\n",
              "      <td>0.555</td>\n",
              "      <td>0.195</td>\n",
              "      <td>1.9485</td>\n",
              "      <td>0.9455</td>\n",
              "      <td>0.3765</td>\n",
              "      <td>0.4950</td>\n",
              "      <td>12</td>\n",
              "    </tr>\n",
              "  </tbody>\n",
              "</table>\n",
              "<p>4055 rows × 9 columns</p>\n",
              "</div>"
            ],
            "text/plain": [
              "     Type  LongestShell  Diameter  ...  VisceraWeight  ShellWeight  Rings\n",
              "0       M         0.455     0.365  ...         0.1010       0.1500     15\n",
              "1       M         0.350     0.265  ...         0.0485       0.0700      7\n",
              "2       F         0.530     0.420  ...         0.1415       0.2100      9\n",
              "3       M         0.440     0.365  ...         0.1140       0.1550     10\n",
              "4       I         0.330     0.255  ...         0.0395       0.0550      7\n",
              "...   ...           ...       ...  ...            ...          ...    ...\n",
              "4172    F         0.565     0.450  ...         0.2390       0.2490     11\n",
              "4173    M         0.590     0.440  ...         0.2145       0.2605     10\n",
              "4174    M         0.600     0.475  ...         0.2875       0.3080      9\n",
              "4175    F         0.625     0.485  ...         0.2610       0.2960     10\n",
              "4176    M         0.710     0.555  ...         0.3765       0.4950     12\n",
              "\n",
              "[4055 rows x 9 columns]"
            ]
          },
          "metadata": {
            "tags": []
          },
          "execution_count": 282
        }
      ]
    },
    {
      "cell_type": "code",
      "metadata": {
        "colab": {
          "base_uri": "https://localhost:8080/"
        },
        "id": "dzVW5TMpe7VY",
        "outputId": "9c13d9c3-183f-46c0-c1e4-415d4728783c"
      },
      "source": [
        "#Abaixo o dataframe sem outliers na coluna \"ShuckedWeight\"\r\n",
        "sns.boxplot(x=tabela5['ShuckedWeight'])"
      ],
      "execution_count": null,
      "outputs": [
        {
          "output_type": "execute_result",
          "data": {
            "text/plain": [
              "<matplotlib.axes._subplots.AxesSubplot at 0x7f795a93fe10>"
            ]
          },
          "metadata": {
            "tags": []
          },
          "execution_count": 283
        },
        {
          "output_type": "display_data",
          "data": {
            "image/png": "[encoded data removed]",
            "text/plain": [
              "<Figure size 432x288 with 1 Axes>"
            ]
          },
          "metadata": {
            "tags": []
          }
        }
      ]
    },
    {
      "cell_type": "code",
      "metadata": {
        "colab": {
          "base_uri": "https://localhost:8080/"
        },
        "id": "6_LLmH7hfTpf",
        "outputId": "6f8a542e-3e73-4ebb-e16b-1dc3902de03b"
      },
      "source": [
        "# Removendo os outliers da coluna \"VisceraWeight\"\r\n",
        "\r\n",
        "Q1 = tabela5['VisceraWeight'].quantile(0.25)\r\n",
        "Q3 = tabela5['VisceraWeight'].quantile(0.75)\r\n",
        "IQR = Q3 - Q1    #IQR is interquartile range. \r\n",
        "\r\n",
        "filter = (tabela5['VisceraWeight'] >= Q1 - 1.5 * IQR) & (tabela5['VisceraWeight'] <= Q3 + 1.5 *IQR)\r\n",
        "#O novo dataframe será armazenado em tabela6\r\n",
        "tabela6 = tabela5.loc[filter]\r\n",
        "tabela6"
      ],
      "execution_count": null,
      "outputs": [
        {
          "output_type": "execute_result",
          "data": {
            "text/html": [
              "<div>\n",
              "<style scoped>\n",
              "    .dataframe tbody tr th:only-of-type {\n",
              "        vertical-align: middle;\n",
              "    }\n",
              "\n",
              "    .dataframe tbody tr th {\n",
              "        vertical-align: top;\n",
              "    }\n",
              "\n",
              "    .dataframe thead th {\n",
              "        text-align: right;\n",
              "    }\n",
              "</style>\n",
              "<table border=\"1\" class=\"dataframe\">\n",
              "  <thead>\n",
              "    <tr style=\"text-align: right;\">\n",
              "      <th></th>\n",
              "      <th>Type</th>\n",
              "      <th>LongestShell</th>\n",
              "      <th>Diameter</th>\n",
              "      <th>Height</th>\n",
              "      <th>WholeWeight</th>\n",
              "      <th>ShuckedWeight</th>\n",
              "      <th>VisceraWeight</th>\n",
              "      <th>ShellWeight</th>\n",
              "      <th>Rings</th>\n",
              "    </tr>\n",
              "  </thead>\n",
              "  <tbody>\n",
              "    <tr>\n",
              "      <th>0</th>\n",
              "      <td>M</td>\n",
              "      <td>0.455</td>\n",
              "      <td>0.365</td>\n",
              "      <td>0.095</td>\n",
              "      <td>0.5140</td>\n",
              "      <td>0.2245</td>\n",
              "      <td>0.1010</td>\n",
              "      <td>0.1500</td>\n",
              "      <td>15</td>\n",
              "    </tr>\n",
              "    <tr>\n",
              "      <th>1</th>\n",
              "      <td>M</td>\n",
              "      <td>0.350</td>\n",
              "      <td>0.265</td>\n",
              "      <td>0.090</td>\n",
              "      <td>0.2255</td>\n",
              "      <td>0.0995</td>\n",
              "      <td>0.0485</td>\n",
              "      <td>0.0700</td>\n",
              "      <td>7</td>\n",
              "    </tr>\n",
              "    <tr>\n",
              "      <th>2</th>\n",
              "      <td>F</td>\n",
              "      <td>0.530</td>\n",
              "      <td>0.420</td>\n",
              "      <td>0.135</td>\n",
              "      <td>0.6770</td>\n",
              "      <td>0.2565</td>\n",
              "      <td>0.1415</td>\n",
              "      <td>0.2100</td>\n",
              "      <td>9</td>\n",
              "    </tr>\n",
              "    <tr>\n",
              "      <th>3</th>\n",
              "      <td>M</td>\n",
              "      <td>0.440</td>\n",
              "      <td>0.365</td>\n",
              "      <td>0.125</td>\n",
              "      <td>0.5160</td>\n",
              "      <td>0.2155</td>\n",
              "      <td>0.1140</td>\n",
              "      <td>0.1550</td>\n",
              "      <td>10</td>\n",
              "    </tr>\n",
              "    <tr>\n",
              "      <th>4</th>\n",
              "      <td>I</td>\n",
              "      <td>0.330</td>\n",
              "      <td>0.255</td>\n",
              "      <td>0.080</td>\n",
              "      <td>0.2050</td>\n",
              "      <td>0.0895</td>\n",
              "      <td>0.0395</td>\n",
              "      <td>0.0550</td>\n",
              "      <td>7</td>\n",
              "    </tr>\n",
              "    <tr>\n",
              "      <th>...</th>\n",
              "      <td>...</td>\n",
              "      <td>...</td>\n",
              "      <td>...</td>\n",
              "      <td>...</td>\n",
              "      <td>...</td>\n",
              "      <td>...</td>\n",
              "      <td>...</td>\n",
              "      <td>...</td>\n",
              "      <td>...</td>\n",
              "    </tr>\n",
              "    <tr>\n",
              "      <th>4172</th>\n",
              "      <td>F</td>\n",
              "      <td>0.565</td>\n",
              "      <td>0.450</td>\n",
              "      <td>0.165</td>\n",
              "      <td>0.8870</td>\n",
              "      <td>0.3700</td>\n",
              "      <td>0.2390</td>\n",
              "      <td>0.2490</td>\n",
              "      <td>11</td>\n",
              "    </tr>\n",
              "    <tr>\n",
              "      <th>4173</th>\n",
              "      <td>M</td>\n",
              "      <td>0.590</td>\n",
              "      <td>0.440</td>\n",
              "      <td>0.135</td>\n",
              "      <td>0.9660</td>\n",
              "      <td>0.4390</td>\n",
              "      <td>0.2145</td>\n",
              "      <td>0.2605</td>\n",
              "      <td>10</td>\n",
              "    </tr>\n",
              "    <tr>\n",
              "      <th>4174</th>\n",
              "      <td>M</td>\n",
              "      <td>0.600</td>\n",
              "      <td>0.475</td>\n",
              "      <td>0.205</td>\n",
              "      <td>1.1760</td>\n",
              "      <td>0.5255</td>\n",
              "      <td>0.2875</td>\n",
              "      <td>0.3080</td>\n",
              "      <td>9</td>\n",
              "    </tr>\n",
              "    <tr>\n",
              "      <th>4175</th>\n",
              "      <td>F</td>\n",
              "      <td>0.625</td>\n",
              "      <td>0.485</td>\n",
              "      <td>0.150</td>\n",
              "      <td>1.0945</td>\n",
              "      <td>0.5310</td>\n",
              "      <td>0.2610</td>\n",
              "      <td>0.2960</td>\n",
              "      <td>10</td>\n",
              "    </tr>\n",
              "    <tr>\n",
              "      <th>4176</th>\n",
              "      <td>M</td>\n",
              "      <td>0.710</td>\n",
              "      <td>0.555</td>\n",
              "      <td>0.195</td>\n",
              "      <td>1.9485</td>\n",
              "      <td>0.9455</td>\n",
              "      <td>0.3765</td>\n",
              "      <td>0.4950</td>\n",
              "      <td>12</td>\n",
              "    </tr>\n",
              "  </tbody>\n",
              "</table>\n",
              "<p>4041 rows × 9 columns</p>\n",
              "</div>"
            ],
            "text/plain": [
              "     Type  LongestShell  Diameter  ...  VisceraWeight  ShellWeight  Rings\n",
              "0       M         0.455     0.365  ...         0.1010       0.1500     15\n",
              "1       M         0.350     0.265  ...         0.0485       0.0700      7\n",
              "2       F         0.530     0.420  ...         0.1415       0.2100      9\n",
              "3       M         0.440     0.365  ...         0.1140       0.1550     10\n",
              "4       I         0.330     0.255  ...         0.0395       0.0550      7\n",
              "...   ...           ...       ...  ...            ...          ...    ...\n",
              "4172    F         0.565     0.450  ...         0.2390       0.2490     11\n",
              "4173    M         0.590     0.440  ...         0.2145       0.2605     10\n",
              "4174    M         0.600     0.475  ...         0.2875       0.3080      9\n",
              "4175    F         0.625     0.485  ...         0.2610       0.2960     10\n",
              "4176    M         0.710     0.555  ...         0.3765       0.4950     12\n",
              "\n",
              "[4041 rows x 9 columns]"
            ]
          },
          "metadata": {
            "tags": []
          },
          "execution_count": 284
        }
      ]
    },
    {
      "cell_type": "code",
      "metadata": {
        "colab": {
          "base_uri": "https://localhost:8080/"
        },
        "id": "aefDfMG4fsbK",
        "outputId": "78dd91bc-1c01-4fbe-8e8d-b3967cdcfa62"
      },
      "source": [
        "#Abaixo o dataframe sem outliers na coluna \"VisceraWeight\"\r\n",
        "sns.boxplot(x=tabela6['VisceraWeight'])"
      ],
      "execution_count": null,
      "outputs": [
        {
          "output_type": "execute_result",
          "data": {
            "text/plain": [
              "<matplotlib.axes._subplots.AxesSubplot at 0x7f795a8ce310>"
            ]
          },
          "metadata": {
            "tags": []
          },
          "execution_count": 285
        },
        {
          "output_type": "display_data",
          "data": {
            "image/png": "[encoded data removed]",
            "text/plain": [
              "<Figure size 432x288 with 1 Axes>"
            ]
          },
          "metadata": {
            "tags": []
          }
        }
      ]
    },
    {
      "cell_type": "code",
      "metadata": {
        "colab": {
          "base_uri": "https://localhost:8080/"
        },
        "id": "8JkHFguHf1h7",
        "outputId": "bc0d2d28-7fd1-4471-a13a-83510092ffc7"
      },
      "source": [
        "# Removendo os outliers da coluna \"ShellWeight\"\r\n",
        "\r\n",
        "Q1 = tabela6['ShellWeight'].quantile(0.25)\r\n",
        "Q3 = tabela6['ShellWeight'].quantile(0.75)\r\n",
        "IQR = Q3 - Q1    #IQR is interquartile range. \r\n",
        "\r\n",
        "filter = (tabela6['ShellWeight'] >= Q1 - 1.5 * IQR) & (tabela6['ShellWeight'] <= Q3 + 1.5 *IQR)\r\n",
        "#O novo dataframe será armazenado em tabela7\r\n",
        "tabela7 = tabela6.loc[filter]\r\n",
        "tabela7"
      ],
      "execution_count": null,
      "outputs": [
        {
          "output_type": "execute_result",
          "data": {
            "text/html": [
              "<div>\n",
              "<style scoped>\n",
              "    .dataframe tbody tr th:only-of-type {\n",
              "        vertical-align: middle;\n",
              "    }\n",
              "\n",
              "    .dataframe tbody tr th {\n",
              "        vertical-align: top;\n",
              "    }\n",
              "\n",
              "    .dataframe thead th {\n",
              "        text-align: right;\n",
              "    }\n",
              "</style>\n",
              "<table border=\"1\" class=\"dataframe\">\n",
              "  <thead>\n",
              "    <tr style=\"text-align: right;\">\n",
              "      <th></th>\n",
              "      <th>Type</th>\n",
              "      <th>LongestShell</th>\n",
              "      <th>Diameter</th>\n",
              "      <th>Height</th>\n",
              "      <th>WholeWeight</th>\n",
              "      <th>ShuckedWeight</th>\n",
              "      <th>VisceraWeight</th>\n",
              "      <th>ShellWeight</th>\n",
              "      <th>Rings</th>\n",
              "    </tr>\n",
              "  </thead>\n",
              "  <tbody>\n",
              "    <tr>\n",
              "      <th>0</th>\n",
              "      <td>M</td>\n",
              "      <td>0.455</td>\n",
              "      <td>0.365</td>\n",
              "      <td>0.095</td>\n",
              "      <td>0.5140</td>\n",
              "      <td>0.2245</td>\n",
              "      <td>0.1010</td>\n",
              "      <td>0.1500</td>\n",
              "      <td>15</td>\n",
              "    </tr>\n",
              "    <tr>\n",
              "      <th>1</th>\n",
              "      <td>M</td>\n",
              "      <td>0.350</td>\n",
              "      <td>0.265</td>\n",
              "      <td>0.090</td>\n",
              "      <td>0.2255</td>\n",
              "      <td>0.0995</td>\n",
              "      <td>0.0485</td>\n",
              "      <td>0.0700</td>\n",
              "      <td>7</td>\n",
              "    </tr>\n",
              "    <tr>\n",
              "      <th>2</th>\n",
              "      <td>F</td>\n",
              "      <td>0.530</td>\n",
              "      <td>0.420</td>\n",
              "      <td>0.135</td>\n",
              "      <td>0.6770</td>\n",
              "      <td>0.2565</td>\n",
              "      <td>0.1415</td>\n",
              "      <td>0.2100</td>\n",
              "      <td>9</td>\n",
              "    </tr>\n",
              "    <tr>\n",
              "      <th>3</th>\n",
              "      <td>M</td>\n",
              "      <td>0.440</td>\n",
              "      <td>0.365</td>\n",
              "      <td>0.125</td>\n",
              "      <td>0.5160</td>\n",
              "      <td>0.2155</td>\n",
              "      <td>0.1140</td>\n",
              "      <td>0.1550</td>\n",
              "      <td>10</td>\n",
              "    </tr>\n",
              "    <tr>\n",
              "      <th>4</th>\n",
              "      <td>I</td>\n",
              "      <td>0.330</td>\n",
              "      <td>0.255</td>\n",
              "      <td>0.080</td>\n",
              "      <td>0.2050</td>\n",
              "      <td>0.0895</td>\n",
              "      <td>0.0395</td>\n",
              "      <td>0.0550</td>\n",
              "      <td>7</td>\n",
              "    </tr>\n",
              "    <tr>\n",
              "      <th>...</th>\n",
              "      <td>...</td>\n",
              "      <td>...</td>\n",
              "      <td>...</td>\n",
              "      <td>...</td>\n",
              "      <td>...</td>\n",
              "      <td>...</td>\n",
              "      <td>...</td>\n",
              "      <td>...</td>\n",
              "      <td>...</td>\n",
              "    </tr>\n",
              "    <tr>\n",
              "      <th>4172</th>\n",
              "      <td>F</td>\n",
              "      <td>0.565</td>\n",
              "      <td>0.450</td>\n",
              "      <td>0.165</td>\n",
              "      <td>0.8870</td>\n",
              "      <td>0.3700</td>\n",
              "      <td>0.2390</td>\n",
              "      <td>0.2490</td>\n",
              "      <td>11</td>\n",
              "    </tr>\n",
              "    <tr>\n",
              "      <th>4173</th>\n",
              "      <td>M</td>\n",
              "      <td>0.590</td>\n",
              "      <td>0.440</td>\n",
              "      <td>0.135</td>\n",
              "      <td>0.9660</td>\n",
              "      <td>0.4390</td>\n",
              "      <td>0.2145</td>\n",
              "      <td>0.2605</td>\n",
              "      <td>10</td>\n",
              "    </tr>\n",
              "    <tr>\n",
              "      <th>4174</th>\n",
              "      <td>M</td>\n",
              "      <td>0.600</td>\n",
              "      <td>0.475</td>\n",
              "      <td>0.205</td>\n",
              "      <td>1.1760</td>\n",
              "      <td>0.5255</td>\n",
              "      <td>0.2875</td>\n",
              "      <td>0.3080</td>\n",
              "      <td>9</td>\n",
              "    </tr>\n",
              "    <tr>\n",
              "      <th>4175</th>\n",
              "      <td>F</td>\n",
              "      <td>0.625</td>\n",
              "      <td>0.485</td>\n",
              "      <td>0.150</td>\n",
              "      <td>1.0945</td>\n",
              "      <td>0.5310</td>\n",
              "      <td>0.2610</td>\n",
              "      <td>0.2960</td>\n",
              "      <td>10</td>\n",
              "    </tr>\n",
              "    <tr>\n",
              "      <th>4176</th>\n",
              "      <td>M</td>\n",
              "      <td>0.710</td>\n",
              "      <td>0.555</td>\n",
              "      <td>0.195</td>\n",
              "      <td>1.9485</td>\n",
              "      <td>0.9455</td>\n",
              "      <td>0.3765</td>\n",
              "      <td>0.4950</td>\n",
              "      <td>12</td>\n",
              "    </tr>\n",
              "  </tbody>\n",
              "</table>\n",
              "<p>4013 rows × 9 columns</p>\n",
              "</div>"
            ],
            "text/plain": [
              "     Type  LongestShell  Diameter  ...  VisceraWeight  ShellWeight  Rings\n",
              "0       M         0.455     0.365  ...         0.1010       0.1500     15\n",
              "1       M         0.350     0.265  ...         0.0485       0.0700      7\n",
              "2       F         0.530     0.420  ...         0.1415       0.2100      9\n",
              "3       M         0.440     0.365  ...         0.1140       0.1550     10\n",
              "4       I         0.330     0.255  ...         0.0395       0.0550      7\n",
              "...   ...           ...       ...  ...            ...          ...    ...\n",
              "4172    F         0.565     0.450  ...         0.2390       0.2490     11\n",
              "4173    M         0.590     0.440  ...         0.2145       0.2605     10\n",
              "4174    M         0.600     0.475  ...         0.2875       0.3080      9\n",
              "4175    F         0.625     0.485  ...         0.2610       0.2960     10\n",
              "4176    M         0.710     0.555  ...         0.3765       0.4950     12\n",
              "\n",
              "[4013 rows x 9 columns]"
            ]
          },
          "metadata": {
            "tags": []
          },
          "execution_count": 286
        }
      ]
    },
    {
      "cell_type": "code",
      "metadata": {
        "colab": {
          "base_uri": "https://localhost:8080/"
        },
        "id": "apYjwY9EgQDG",
        "outputId": "ef66cb3e-1bbe-446f-954e-f135b2310ae7"
      },
      "source": [
        "#Abaixo o dataframe sem outliers na coluna \"ShellWeight\"\r\n",
        "sns.boxplot(x=tabela7['ShellWeight'])"
      ],
      "execution_count": null,
      "outputs": [
        {
          "output_type": "execute_result",
          "data": {
            "text/plain": [
              "<matplotlib.axes._subplots.AxesSubplot at 0x7f795a8a12d0>"
            ]
          },
          "metadata": {
            "tags": []
          },
          "execution_count": 287
        },
        {
          "output_type": "display_data",
          "data": {
            "image/png": "[encoded data removed]",
            "text/plain": [
              "<Figure size 432x288 with 1 Axes>"
            ]
          },
          "metadata": {
            "tags": []
          }
        }
      ]
    },
    {
      "cell_type": "code",
      "metadata": {
        "colab": {
          "base_uri": "https://localhost:8080/"
        },
        "id": "bLw0ds-pgan_",
        "outputId": "854f46fe-cf66-45ad-85b6-38193a16f78f"
      },
      "source": [
        "# Removendo os outliers da coluna \"Rings\"\r\n",
        "\r\n",
        "Q1 = tabela7['Rings'].quantile(0.25)\r\n",
        "Q3 = tabela7['Rings'].quantile(0.75)\r\n",
        "IQR = Q3 - Q1    #IQR is interquartile range. \r\n",
        "\r\n",
        "filter = (tabela7['Rings'] >= Q1 - 1.5 * IQR) & (tabela7['Rings'] <= Q3 + 1.5 *IQR)\r\n",
        "#O novo dataframe será armazenado em tabela8\r\n",
        "tabela8 = tabela7.loc[filter]\r\n",
        "tabela8"
      ],
      "execution_count": null,
      "outputs": [
        {
          "output_type": "execute_result",
          "data": {
            "text/html": [
              "<div>\n",
              "<style scoped>\n",
              "    .dataframe tbody tr th:only-of-type {\n",
              "        vertical-align: middle;\n",
              "    }\n",
              "\n",
              "    .dataframe tbody tr th {\n",
              "        vertical-align: top;\n",
              "    }\n",
              "\n",
              "    .dataframe thead th {\n",
              "        text-align: right;\n",
              "    }\n",
              "</style>\n",
              "<table border=\"1\" class=\"dataframe\">\n",
              "  <thead>\n",
              "    <tr style=\"text-align: right;\">\n",
              "      <th></th>\n",
              "      <th>Type</th>\n",
              "      <th>LongestShell</th>\n",
              "      <th>Diameter</th>\n",
              "      <th>Height</th>\n",
              "      <th>WholeWeight</th>\n",
              "      <th>ShuckedWeight</th>\n",
              "      <th>VisceraWeight</th>\n",
              "      <th>ShellWeight</th>\n",
              "      <th>Rings</th>\n",
              "    </tr>\n",
              "  </thead>\n",
              "  <tbody>\n",
              "    <tr>\n",
              "      <th>0</th>\n",
              "      <td>M</td>\n",
              "      <td>0.455</td>\n",
              "      <td>0.365</td>\n",
              "      <td>0.095</td>\n",
              "      <td>0.5140</td>\n",
              "      <td>0.2245</td>\n",
              "      <td>0.1010</td>\n",
              "      <td>0.1500</td>\n",
              "      <td>15</td>\n",
              "    </tr>\n",
              "    <tr>\n",
              "      <th>1</th>\n",
              "      <td>M</td>\n",
              "      <td>0.350</td>\n",
              "      <td>0.265</td>\n",
              "      <td>0.090</td>\n",
              "      <td>0.2255</td>\n",
              "      <td>0.0995</td>\n",
              "      <td>0.0485</td>\n",
              "      <td>0.0700</td>\n",
              "      <td>7</td>\n",
              "    </tr>\n",
              "    <tr>\n",
              "      <th>2</th>\n",
              "      <td>F</td>\n",
              "      <td>0.530</td>\n",
              "      <td>0.420</td>\n",
              "      <td>0.135</td>\n",
              "      <td>0.6770</td>\n",
              "      <td>0.2565</td>\n",
              "      <td>0.1415</td>\n",
              "      <td>0.2100</td>\n",
              "      <td>9</td>\n",
              "    </tr>\n",
              "    <tr>\n",
              "      <th>3</th>\n",
              "      <td>M</td>\n",
              "      <td>0.440</td>\n",
              "      <td>0.365</td>\n",
              "      <td>0.125</td>\n",
              "      <td>0.5160</td>\n",
              "      <td>0.2155</td>\n",
              "      <td>0.1140</td>\n",
              "      <td>0.1550</td>\n",
              "      <td>10</td>\n",
              "    </tr>\n",
              "    <tr>\n",
              "      <th>4</th>\n",
              "      <td>I</td>\n",
              "      <td>0.330</td>\n",
              "      <td>0.255</td>\n",
              "      <td>0.080</td>\n",
              "      <td>0.2050</td>\n",
              "      <td>0.0895</td>\n",
              "      <td>0.0395</td>\n",
              "      <td>0.0550</td>\n",
              "      <td>7</td>\n",
              "    </tr>\n",
              "    <tr>\n",
              "      <th>...</th>\n",
              "      <td>...</td>\n",
              "      <td>...</td>\n",
              "      <td>...</td>\n",
              "      <td>...</td>\n",
              "      <td>...</td>\n",
              "      <td>...</td>\n",
              "      <td>...</td>\n",
              "      <td>...</td>\n",
              "      <td>...</td>\n",
              "    </tr>\n",
              "    <tr>\n",
              "      <th>4172</th>\n",
              "      <td>F</td>\n",
              "      <td>0.565</td>\n",
              "      <td>0.450</td>\n",
              "      <td>0.165</td>\n",
              "      <td>0.8870</td>\n",
              "      <td>0.3700</td>\n",
              "      <td>0.2390</td>\n",
              "      <td>0.2490</td>\n",
              "      <td>11</td>\n",
              "    </tr>\n",
              "    <tr>\n",
              "      <th>4173</th>\n",
              "      <td>M</td>\n",
              "      <td>0.590</td>\n",
              "      <td>0.440</td>\n",
              "      <td>0.135</td>\n",
              "      <td>0.9660</td>\n",
              "      <td>0.4390</td>\n",
              "      <td>0.2145</td>\n",
              "      <td>0.2605</td>\n",
              "      <td>10</td>\n",
              "    </tr>\n",
              "    <tr>\n",
              "      <th>4174</th>\n",
              "      <td>M</td>\n",
              "      <td>0.600</td>\n",
              "      <td>0.475</td>\n",
              "      <td>0.205</td>\n",
              "      <td>1.1760</td>\n",
              "      <td>0.5255</td>\n",
              "      <td>0.2875</td>\n",
              "      <td>0.3080</td>\n",
              "      <td>9</td>\n",
              "    </tr>\n",
              "    <tr>\n",
              "      <th>4175</th>\n",
              "      <td>F</td>\n",
              "      <td>0.625</td>\n",
              "      <td>0.485</td>\n",
              "      <td>0.150</td>\n",
              "      <td>1.0945</td>\n",
              "      <td>0.5310</td>\n",
              "      <td>0.2610</td>\n",
              "      <td>0.2960</td>\n",
              "      <td>10</td>\n",
              "    </tr>\n",
              "    <tr>\n",
              "      <th>4176</th>\n",
              "      <td>M</td>\n",
              "      <td>0.710</td>\n",
              "      <td>0.555</td>\n",
              "      <td>0.195</td>\n",
              "      <td>1.9485</td>\n",
              "      <td>0.9455</td>\n",
              "      <td>0.3765</td>\n",
              "      <td>0.4950</td>\n",
              "      <td>12</td>\n",
              "    </tr>\n",
              "  </tbody>\n",
              "</table>\n",
              "<p>3773 rows × 9 columns</p>\n",
              "</div>"
            ],
            "text/plain": [
              "     Type  LongestShell  Diameter  ...  VisceraWeight  ShellWeight  Rings\n",
              "0       M         0.455     0.365  ...         0.1010       0.1500     15\n",
              "1       M         0.350     0.265  ...         0.0485       0.0700      7\n",
              "2       F         0.530     0.420  ...         0.1415       0.2100      9\n",
              "3       M         0.440     0.365  ...         0.1140       0.1550     10\n",
              "4       I         0.330     0.255  ...         0.0395       0.0550      7\n",
              "...   ...           ...       ...  ...            ...          ...    ...\n",
              "4172    F         0.565     0.450  ...         0.2390       0.2490     11\n",
              "4173    M         0.590     0.440  ...         0.2145       0.2605     10\n",
              "4174    M         0.600     0.475  ...         0.2875       0.3080      9\n",
              "4175    F         0.625     0.485  ...         0.2610       0.2960     10\n",
              "4176    M         0.710     0.555  ...         0.3765       0.4950     12\n",
              "\n",
              "[3773 rows x 9 columns]"
            ]
          },
          "metadata": {
            "tags": []
          },
          "execution_count": 288
        }
      ]
    },
    {
      "cell_type": "code",
      "metadata": {
        "colab": {
          "base_uri": "https://localhost:8080/"
        },
        "id": "t1ZmT6y4g0aB",
        "outputId": "0743c5a8-5516-478c-b189-78cd2faa0870"
      },
      "source": [
        "#Abaixo o dataframe sem outliers na coluna \"Rings\"\r\n",
        "sns.boxplot(x=tabela8['Rings'])"
      ],
      "execution_count": null,
      "outputs": [
        {
          "output_type": "execute_result",
          "data": {
            "text/plain": [
              "<matplotlib.axes._subplots.AxesSubplot at 0x7f795af5f590>"
            ]
          },
          "metadata": {
            "tags": []
          },
          "execution_count": 289
        },
        {
          "output_type": "display_data",
          "data": {
            "image/png": "[encoded data removed]",
            "text/plain": [
              "<Figure size 432x288 with 1 Axes>"
            ]
          },
          "metadata": {
            "tags": []
          }
        }
      ]
    },
    {
      "cell_type": "code",
      "metadata": {
        "colab": {
          "base_uri": "https://localhost:8080/"
        },
        "id": "goHkStT7T4u2",
        "outputId": "9ee70523-7d7f-465e-fbd3-4ff7aa54b4cb"
      },
      "source": [
        "# Encontrar as relações entre as variáveis.\r\n",
        "plt.figure(figsize=(20,10))\r\n",
        "c= tabela.corr()\r\n",
        "sns.heatmap(c,annot=True)\r\n",
        "c"
      ],
      "execution_count": null,
      "outputs": [
        {
          "output_type": "execute_result",
          "data": {
            "text/html": [
              "<div>\n",
              "<style scoped>\n",
              "    .dataframe tbody tr th:only-of-type {\n",
              "        vertical-align: middle;\n",
              "    }\n",
              "\n",
              "    .dataframe tbody tr th {\n",
              "        vertical-align: top;\n",
              "    }\n",
              "\n",
              "    .dataframe thead th {\n",
              "        text-align: right;\n",
              "    }\n",
              "</style>\n",
              "<table border=\"1\" class=\"dataframe\">\n",
              "  <thead>\n",
              "    <tr style=\"text-align: right;\">\n",
              "      <th></th>\n",
              "      <th>LongestShell</th>\n",
              "      <th>Diameter</th>\n",
              "      <th>Height</th>\n",
              "      <th>WholeWeight</th>\n",
              "      <th>ShuckedWeight</th>\n",
              "      <th>VisceraWeight</th>\n",
              "      <th>ShellWeight</th>\n",
              "      <th>Rings</th>\n",
              "    </tr>\n",
              "  </thead>\n",
              "  <tbody>\n",
              "    <tr>\n",
              "      <th>LongestShell</th>\n",
              "      <td>1.000000</td>\n",
              "      <td>0.986812</td>\n",
              "      <td>0.827554</td>\n",
              "      <td>0.925261</td>\n",
              "      <td>0.897914</td>\n",
              "      <td>0.903018</td>\n",
              "      <td>0.897706</td>\n",
              "      <td>0.556720</td>\n",
              "    </tr>\n",
              "    <tr>\n",
              "      <th>Diameter</th>\n",
              "      <td>0.986812</td>\n",
              "      <td>1.000000</td>\n",
              "      <td>0.833684</td>\n",
              "      <td>0.925452</td>\n",
              "      <td>0.893162</td>\n",
              "      <td>0.899724</td>\n",
              "      <td>0.905330</td>\n",
              "      <td>0.574660</td>\n",
              "    </tr>\n",
              "    <tr>\n",
              "      <th>Height</th>\n",
              "      <td>0.827554</td>\n",
              "      <td>0.833684</td>\n",
              "      <td>1.000000</td>\n",
              "      <td>0.819221</td>\n",
              "      <td>0.774972</td>\n",
              "      <td>0.798319</td>\n",
              "      <td>0.817338</td>\n",
              "      <td>0.557467</td>\n",
              "    </tr>\n",
              "    <tr>\n",
              "      <th>WholeWeight</th>\n",
              "      <td>0.925261</td>\n",
              "      <td>0.925452</td>\n",
              "      <td>0.819221</td>\n",
              "      <td>1.000000</td>\n",
              "      <td>0.969405</td>\n",
              "      <td>0.966375</td>\n",
              "      <td>0.955355</td>\n",
              "      <td>0.540390</td>\n",
              "    </tr>\n",
              "    <tr>\n",
              "      <th>ShuckedWeight</th>\n",
              "      <td>0.897914</td>\n",
              "      <td>0.893162</td>\n",
              "      <td>0.774972</td>\n",
              "      <td>0.969405</td>\n",
              "      <td>1.000000</td>\n",
              "      <td>0.931961</td>\n",
              "      <td>0.882617</td>\n",
              "      <td>0.420884</td>\n",
              "    </tr>\n",
              "    <tr>\n",
              "      <th>VisceraWeight</th>\n",
              "      <td>0.903018</td>\n",
              "      <td>0.899724</td>\n",
              "      <td>0.798319</td>\n",
              "      <td>0.966375</td>\n",
              "      <td>0.931961</td>\n",
              "      <td>1.000000</td>\n",
              "      <td>0.907656</td>\n",
              "      <td>0.503819</td>\n",
              "    </tr>\n",
              "    <tr>\n",
              "      <th>ShellWeight</th>\n",
              "      <td>0.897706</td>\n",
              "      <td>0.905330</td>\n",
              "      <td>0.817338</td>\n",
              "      <td>0.955355</td>\n",
              "      <td>0.882617</td>\n",
              "      <td>0.907656</td>\n",
              "      <td>1.000000</td>\n",
              "      <td>0.627574</td>\n",
              "    </tr>\n",
              "    <tr>\n",
              "      <th>Rings</th>\n",
              "      <td>0.556720</td>\n",
              "      <td>0.574660</td>\n",
              "      <td>0.557467</td>\n",
              "      <td>0.540390</td>\n",
              "      <td>0.420884</td>\n",
              "      <td>0.503819</td>\n",
              "      <td>0.627574</td>\n",
              "      <td>1.000000</td>\n",
              "    </tr>\n",
              "  </tbody>\n",
              "</table>\n",
              "</div>"
            ],
            "text/plain": [
              "               LongestShell  Diameter  ...  ShellWeight     Rings\n",
              "LongestShell       1.000000  0.986812  ...     0.897706  0.556720\n",
              "Diameter           0.986812  1.000000  ...     0.905330  0.574660\n",
              "Height             0.827554  0.833684  ...     0.817338  0.557467\n",
              "WholeWeight        0.925261  0.925452  ...     0.955355  0.540390\n",
              "ShuckedWeight      0.897914  0.893162  ...     0.882617  0.420884\n",
              "VisceraWeight      0.903018  0.899724  ...     0.907656  0.503819\n",
              "ShellWeight        0.897706  0.905330  ...     1.000000  0.627574\n",
              "Rings              0.556720  0.574660  ...     0.627574  1.000000\n",
              "\n",
              "[8 rows x 8 columns]"
            ]
          },
          "metadata": {
            "tags": []
          },
          "execution_count": 290
        },
        {
          "output_type": "display_data",
          "data": {
            "image/png": "[encoded data removed]",
            "text/plain": [
              "<Figure size 1440x720 with 2 Axes>"
            ]
          },
          "metadata": {
            "tags": []
          }
        }
      ]
    },
    {
      "cell_type": "code",
      "metadata": {
        "colab": {
          "base_uri": "https://localhost:8080/"
        },
        "id": "HHom6vCWj0iC",
        "outputId": "a3bbdc37-0278-45e2-80fe-491d9c982478"
      },
      "source": [
        "# Traçando um gráfico de dispersão\r\n",
        "fig, ax = plt.subplots (figsize = (10,6)) \r\n",
        "ax.scatter (tabela['Rings'], tabela['Diameter']) \r\n",
        "ax.set_xlabel ('Rings') \r\n",
        "ax.set_ylabel ('Diameter') \r\n",
        "plt.show ()"
      ],
      "execution_count": null,
      "outputs": [
        {
          "output_type": "display_data",
          "data": {
            "image/png": "[encoded data removed]",
            "text/plain": [
              "<Figure size 720x432 with 1 Axes>"
            ]
          },
          "metadata": {
            "tags": []
          }
        }
      ]
    },
    {
      "cell_type": "markdown",
      "metadata": {
        "id": "MZoebMkckciT"
      },
      "source": [
        "#Questão 01\r\n",
        "\r\n"
      ]
    },
    {
      "cell_type": "markdown",
      "metadata": {
        "id": "GBfnK54IdzN1"
      },
      "source": [
        "Testamos datasets tratados de diferentes formas:\r\n",
        "1. Dataset com outliers e tipos M, F e I (4177 linhas de dados)\r\n",
        "* MSE = 4.90\r\n",
        "* RMSE = 2.142\r\n",
        "* R^2 = 0.53\r\n",
        "\r\n",
        "2. Dataset sem outliers e tipos M, F e I (3773 linhas de dados)\r\n",
        "* MSE = 2.73\r\n",
        "* RMSE = 1.653\r\n",
        "* R^2 = 0.49\r\n",
        "\r\n",
        "3. Dataset sem outliers e tipos M e F (2512 linhas de dados)\r\n",
        "* MSE = 3.00\r\n",
        "* RMSE = 1.73\r\n",
        "* R^2 = 0.29\r\n",
        "\r\n",
        "Devido aos resultados apresentandos, resolvemos usar o modelo 2 (Dataset sem outliers e tipos M, F e I), como apresentado abaixo:"
      ]
    },
    {
      "cell_type": "code",
      "metadata": {
        "colab": {
          "base_uri": "https://localhost:8080/",
          "height": 137
        },
        "id": "NIOyMPf0zx-u",
        "outputId": "a238d60a-0d9a-44da-b724-447d775c617f"
      },
      "source": [
        "data = pd.DataFrame({'type': ['M', 'F', 'I']})\r\n",
        "data"
      ],
      "execution_count": null,
      "outputs": [
        {
          "output_type": "execute_result",
          "data": {
            "text/html": [
              "<div>\n",
              "<style scoped>\n",
              "    .dataframe tbody tr th:only-of-type {\n",
              "        vertical-align: middle;\n",
              "    }\n",
              "\n",
              "    .dataframe tbody tr th {\n",
              "        vertical-align: top;\n",
              "    }\n",
              "\n",
              "    .dataframe thead th {\n",
              "        text-align: right;\n",
              "    }\n",
              "</style>\n",
              "<table border=\"1\" class=\"dataframe\">\n",
              "  <thead>\n",
              "    <tr style=\"text-align: right;\">\n",
              "      <th></th>\n",
              "      <th>type</th>\n",
              "    </tr>\n",
              "  </thead>\n",
              "  <tbody>\n",
              "    <tr>\n",
              "      <th>0</th>\n",
              "      <td>M</td>\n",
              "    </tr>\n",
              "    <tr>\n",
              "      <th>1</th>\n",
              "      <td>F</td>\n",
              "    </tr>\n",
              "    <tr>\n",
              "      <th>2</th>\n",
              "      <td>I</td>\n",
              "    </tr>\n",
              "  </tbody>\n",
              "</table>\n",
              "</div>"
            ],
            "text/plain": [
              "  type\n",
              "0    M\n",
              "1    F\n",
              "2    I"
            ]
          },
          "metadata": {
            "tags": []
          },
          "execution_count": 292
        }
      ]
    },
    {
      "cell_type": "code",
      "metadata": {
        "colab": {
          "base_uri": "https://localhost:8080/"
        },
        "id": "qx7vQyiWs2_w",
        "outputId": "4d6930a1-2fd6-473a-881b-60248f663b68"
      },
      "source": [
        "#Como os valores de 'Type' (M, F e I) não podem ser utilizados na regressão linear, por serem string, fazemos a substituição dessas strings\r\n",
        "#por valores númericos\r\n",
        "\r\n",
        "tabela8['Type'].replace({'M':0, 'F':1, 'I':2}, inplace=True)"
      ],
      "execution_count": null,
      "outputs": [
        {
          "output_type": "stream",
          "text": [
            "/usr/local/lib/python3.7/dist-packages/pandas/core/series.py:4582: SettingWithCopyWarning: \n",
            "A value is trying to be set on a copy of a slice from a DataFrame\n",
            "\n",
            "See the caveats in the documentation: https://pandas.pydata.org/pandas-docs/stable/user_guide/indexing.html#returning-a-view-versus-a-copy\n",
            "  method=method,\n"
          ],
          "name": "stderr"
        }
      ]
    },
    {
      "cell_type": "code",
      "metadata": {
        "colab": {
          "base_uri": "https://localhost:8080/",
          "height": 647
        },
        "id": "pGUYlydBliUI",
        "outputId": "bcacdbd1-bbcb-4f3d-aa18-7d2028f5016d"
      },
      "source": [
        "tabela8.head(20)"
      ],
      "execution_count": null,
      "outputs": [
        {
          "output_type": "execute_result",
          "data": {
            "text/html": [
              "<div>\n",
              "<style scoped>\n",
              "    .dataframe tbody tr th:only-of-type {\n",
              "        vertical-align: middle;\n",
              "    }\n",
              "\n",
              "    .dataframe tbody tr th {\n",
              "        vertical-align: top;\n",
              "    }\n",
              "\n",
              "    .dataframe thead th {\n",
              "        text-align: right;\n",
              "    }\n",
              "</style>\n",
              "<table border=\"1\" class=\"dataframe\">\n",
              "  <thead>\n",
              "    <tr style=\"text-align: right;\">\n",
              "      <th></th>\n",
              "      <th>Type</th>\n",
              "      <th>LongestShell</th>\n",
              "      <th>Diameter</th>\n",
              "      <th>Height</th>\n",
              "      <th>WholeWeight</th>\n",
              "      <th>ShuckedWeight</th>\n",
              "      <th>VisceraWeight</th>\n",
              "      <th>ShellWeight</th>\n",
              "      <th>Rings</th>\n",
              "    </tr>\n",
              "  </thead>\n",
              "  <tbody>\n",
              "    <tr>\n",
              "      <th>0</th>\n",
              "      <td>0</td>\n",
              "      <td>0.455</td>\n",
              "      <td>0.365</td>\n",
              "      <td>0.095</td>\n",
              "      <td>0.5140</td>\n",
              "      <td>0.2245</td>\n",
              "      <td>0.1010</td>\n",
              "      <td>0.150</td>\n",
              "      <td>15</td>\n",
              "    </tr>\n",
              "    <tr>\n",
              "      <th>1</th>\n",
              "      <td>0</td>\n",
              "      <td>0.350</td>\n",
              "      <td>0.265</td>\n",
              "      <td>0.090</td>\n",
              "      <td>0.2255</td>\n",
              "      <td>0.0995</td>\n",
              "      <td>0.0485</td>\n",
              "      <td>0.070</td>\n",
              "      <td>7</td>\n",
              "    </tr>\n",
              "    <tr>\n",
              "      <th>2</th>\n",
              "      <td>1</td>\n",
              "      <td>0.530</td>\n",
              "      <td>0.420</td>\n",
              "      <td>0.135</td>\n",
              "      <td>0.6770</td>\n",
              "      <td>0.2565</td>\n",
              "      <td>0.1415</td>\n",
              "      <td>0.210</td>\n",
              "      <td>9</td>\n",
              "    </tr>\n",
              "    <tr>\n",
              "      <th>3</th>\n",
              "      <td>0</td>\n",
              "      <td>0.440</td>\n",
              "      <td>0.365</td>\n",
              "      <td>0.125</td>\n",
              "      <td>0.5160</td>\n",
              "      <td>0.2155</td>\n",
              "      <td>0.1140</td>\n",
              "      <td>0.155</td>\n",
              "      <td>10</td>\n",
              "    </tr>\n",
              "    <tr>\n",
              "      <th>4</th>\n",
              "      <td>2</td>\n",
              "      <td>0.330</td>\n",
              "      <td>0.255</td>\n",
              "      <td>0.080</td>\n",
              "      <td>0.2050</td>\n",
              "      <td>0.0895</td>\n",
              "      <td>0.0395</td>\n",
              "      <td>0.055</td>\n",
              "      <td>7</td>\n",
              "    </tr>\n",
              "    <tr>\n",
              "      <th>5</th>\n",
              "      <td>2</td>\n",
              "      <td>0.425</td>\n",
              "      <td>0.300</td>\n",
              "      <td>0.095</td>\n",
              "      <td>0.3515</td>\n",
              "      <td>0.1410</td>\n",
              "      <td>0.0775</td>\n",
              "      <td>0.120</td>\n",
              "      <td>8</td>\n",
              "    </tr>\n",
              "    <tr>\n",
              "      <th>8</th>\n",
              "      <td>0</td>\n",
              "      <td>0.475</td>\n",
              "      <td>0.370</td>\n",
              "      <td>0.125</td>\n",
              "      <td>0.5095</td>\n",
              "      <td>0.2165</td>\n",
              "      <td>0.1125</td>\n",
              "      <td>0.165</td>\n",
              "      <td>9</td>\n",
              "    </tr>\n",
              "    <tr>\n",
              "      <th>10</th>\n",
              "      <td>1</td>\n",
              "      <td>0.525</td>\n",
              "      <td>0.380</td>\n",
              "      <td>0.140</td>\n",
              "      <td>0.6065</td>\n",
              "      <td>0.1940</td>\n",
              "      <td>0.1475</td>\n",
              "      <td>0.210</td>\n",
              "      <td>14</td>\n",
              "    </tr>\n",
              "    <tr>\n",
              "      <th>11</th>\n",
              "      <td>0</td>\n",
              "      <td>0.430</td>\n",
              "      <td>0.350</td>\n",
              "      <td>0.110</td>\n",
              "      <td>0.4060</td>\n",
              "      <td>0.1675</td>\n",
              "      <td>0.0810</td>\n",
              "      <td>0.135</td>\n",
              "      <td>10</td>\n",
              "    </tr>\n",
              "    <tr>\n",
              "      <th>12</th>\n",
              "      <td>0</td>\n",
              "      <td>0.490</td>\n",
              "      <td>0.380</td>\n",
              "      <td>0.135</td>\n",
              "      <td>0.5415</td>\n",
              "      <td>0.2175</td>\n",
              "      <td>0.0950</td>\n",
              "      <td>0.190</td>\n",
              "      <td>11</td>\n",
              "    </tr>\n",
              "    <tr>\n",
              "      <th>13</th>\n",
              "      <td>1</td>\n",
              "      <td>0.535</td>\n",
              "      <td>0.405</td>\n",
              "      <td>0.145</td>\n",
              "      <td>0.6845</td>\n",
              "      <td>0.2725</td>\n",
              "      <td>0.1710</td>\n",
              "      <td>0.205</td>\n",
              "      <td>10</td>\n",
              "    </tr>\n",
              "    <tr>\n",
              "      <th>14</th>\n",
              "      <td>1</td>\n",
              "      <td>0.470</td>\n",
              "      <td>0.355</td>\n",
              "      <td>0.100</td>\n",
              "      <td>0.4755</td>\n",
              "      <td>0.1675</td>\n",
              "      <td>0.0805</td>\n",
              "      <td>0.185</td>\n",
              "      <td>10</td>\n",
              "    </tr>\n",
              "    <tr>\n",
              "      <th>15</th>\n",
              "      <td>0</td>\n",
              "      <td>0.500</td>\n",
              "      <td>0.400</td>\n",
              "      <td>0.130</td>\n",
              "      <td>0.6645</td>\n",
              "      <td>0.2580</td>\n",
              "      <td>0.1330</td>\n",
              "      <td>0.240</td>\n",
              "      <td>12</td>\n",
              "    </tr>\n",
              "    <tr>\n",
              "      <th>16</th>\n",
              "      <td>2</td>\n",
              "      <td>0.355</td>\n",
              "      <td>0.280</td>\n",
              "      <td>0.085</td>\n",
              "      <td>0.2905</td>\n",
              "      <td>0.0950</td>\n",
              "      <td>0.0395</td>\n",
              "      <td>0.115</td>\n",
              "      <td>7</td>\n",
              "    </tr>\n",
              "    <tr>\n",
              "      <th>17</th>\n",
              "      <td>1</td>\n",
              "      <td>0.440</td>\n",
              "      <td>0.340</td>\n",
              "      <td>0.100</td>\n",
              "      <td>0.4510</td>\n",
              "      <td>0.1880</td>\n",
              "      <td>0.0870</td>\n",
              "      <td>0.130</td>\n",
              "      <td>10</td>\n",
              "    </tr>\n",
              "    <tr>\n",
              "      <th>18</th>\n",
              "      <td>0</td>\n",
              "      <td>0.365</td>\n",
              "      <td>0.295</td>\n",
              "      <td>0.080</td>\n",
              "      <td>0.2555</td>\n",
              "      <td>0.0970</td>\n",
              "      <td>0.0430</td>\n",
              "      <td>0.100</td>\n",
              "      <td>7</td>\n",
              "    </tr>\n",
              "    <tr>\n",
              "      <th>19</th>\n",
              "      <td>0</td>\n",
              "      <td>0.450</td>\n",
              "      <td>0.320</td>\n",
              "      <td>0.100</td>\n",
              "      <td>0.3810</td>\n",
              "      <td>0.1705</td>\n",
              "      <td>0.0750</td>\n",
              "      <td>0.115</td>\n",
              "      <td>9</td>\n",
              "    </tr>\n",
              "    <tr>\n",
              "      <th>20</th>\n",
              "      <td>0</td>\n",
              "      <td>0.355</td>\n",
              "      <td>0.280</td>\n",
              "      <td>0.095</td>\n",
              "      <td>0.2455</td>\n",
              "      <td>0.0955</td>\n",
              "      <td>0.0620</td>\n",
              "      <td>0.075</td>\n",
              "      <td>11</td>\n",
              "    </tr>\n",
              "    <tr>\n",
              "      <th>21</th>\n",
              "      <td>2</td>\n",
              "      <td>0.380</td>\n",
              "      <td>0.275</td>\n",
              "      <td>0.100</td>\n",
              "      <td>0.2255</td>\n",
              "      <td>0.0800</td>\n",
              "      <td>0.0490</td>\n",
              "      <td>0.085</td>\n",
              "      <td>10</td>\n",
              "    </tr>\n",
              "    <tr>\n",
              "      <th>22</th>\n",
              "      <td>1</td>\n",
              "      <td>0.565</td>\n",
              "      <td>0.440</td>\n",
              "      <td>0.155</td>\n",
              "      <td>0.9395</td>\n",
              "      <td>0.4275</td>\n",
              "      <td>0.2140</td>\n",
              "      <td>0.270</td>\n",
              "      <td>12</td>\n",
              "    </tr>\n",
              "  </tbody>\n",
              "</table>\n",
              "</div>"
            ],
            "text/plain": [
              "    Type  LongestShell  Diameter  ...  VisceraWeight  ShellWeight  Rings\n",
              "0      0         0.455     0.365  ...         0.1010        0.150     15\n",
              "1      0         0.350     0.265  ...         0.0485        0.070      7\n",
              "2      1         0.530     0.420  ...         0.1415        0.210      9\n",
              "3      0         0.440     0.365  ...         0.1140        0.155     10\n",
              "4      2         0.330     0.255  ...         0.0395        0.055      7\n",
              "5      2         0.425     0.300  ...         0.0775        0.120      8\n",
              "8      0         0.475     0.370  ...         0.1125        0.165      9\n",
              "10     1         0.525     0.380  ...         0.1475        0.210     14\n",
              "11     0         0.430     0.350  ...         0.0810        0.135     10\n",
              "12     0         0.490     0.380  ...         0.0950        0.190     11\n",
              "13     1         0.535     0.405  ...         0.1710        0.205     10\n",
              "14     1         0.470     0.355  ...         0.0805        0.185     10\n",
              "15     0         0.500     0.400  ...         0.1330        0.240     12\n",
              "16     2         0.355     0.280  ...         0.0395        0.115      7\n",
              "17     1         0.440     0.340  ...         0.0870        0.130     10\n",
              "18     0         0.365     0.295  ...         0.0430        0.100      7\n",
              "19     0         0.450     0.320  ...         0.0750        0.115      9\n",
              "20     0         0.355     0.280  ...         0.0620        0.075     11\n",
              "21     2         0.380     0.275  ...         0.0490        0.085     10\n",
              "22     1         0.565     0.440  ...         0.2140        0.270     12\n",
              "\n",
              "[20 rows x 9 columns]"
            ]
          },
          "metadata": {
            "tags": []
          },
          "execution_count": 294
        }
      ]
    },
    {
      "cell_type": "code",
      "metadata": {
        "colab": {
          "base_uri": "https://localhost:8080/",
          "height": 406
        },
        "id": "n4y7HxVXkjEm",
        "outputId": "d7be4c6c-8240-4cac-a708-4942ea6f3633"
      },
      "source": [
        "# Definimos as entradas eliminando a coluna \"Rings\" (axis=1: define que Rings é uma coluna)\r\n",
        "X = tabela8.drop('Rings', axis=1)\r\n",
        "X\r\n"
      ],
      "execution_count": null,
      "outputs": [
        {
          "output_type": "execute_result",
          "data": {
            "text/html": [
              "<div>\n",
              "<style scoped>\n",
              "    .dataframe tbody tr th:only-of-type {\n",
              "        vertical-align: middle;\n",
              "    }\n",
              "\n",
              "    .dataframe tbody tr th {\n",
              "        vertical-align: top;\n",
              "    }\n",
              "\n",
              "    .dataframe thead th {\n",
              "        text-align: right;\n",
              "    }\n",
              "</style>\n",
              "<table border=\"1\" class=\"dataframe\">\n",
              "  <thead>\n",
              "    <tr style=\"text-align: right;\">\n",
              "      <th></th>\n",
              "      <th>Type</th>\n",
              "      <th>LongestShell</th>\n",
              "      <th>Diameter</th>\n",
              "      <th>Height</th>\n",
              "      <th>WholeWeight</th>\n",
              "      <th>ShuckedWeight</th>\n",
              "      <th>VisceraWeight</th>\n",
              "      <th>ShellWeight</th>\n",
              "    </tr>\n",
              "  </thead>\n",
              "  <tbody>\n",
              "    <tr>\n",
              "      <th>0</th>\n",
              "      <td>0</td>\n",
              "      <td>0.455</td>\n",
              "      <td>0.365</td>\n",
              "      <td>0.095</td>\n",
              "      <td>0.5140</td>\n",
              "      <td>0.2245</td>\n",
              "      <td>0.1010</td>\n",
              "      <td>0.1500</td>\n",
              "    </tr>\n",
              "    <tr>\n",
              "      <th>1</th>\n",
              "      <td>0</td>\n",
              "      <td>0.350</td>\n",
              "      <td>0.265</td>\n",
              "      <td>0.090</td>\n",
              "      <td>0.2255</td>\n",
              "      <td>0.0995</td>\n",
              "      <td>0.0485</td>\n",
              "      <td>0.0700</td>\n",
              "    </tr>\n",
              "    <tr>\n",
              "      <th>2</th>\n",
              "      <td>1</td>\n",
              "      <td>0.530</td>\n",
              "      <td>0.420</td>\n",
              "      <td>0.135</td>\n",
              "      <td>0.6770</td>\n",
              "      <td>0.2565</td>\n",
              "      <td>0.1415</td>\n",
              "      <td>0.2100</td>\n",
              "    </tr>\n",
              "    <tr>\n",
              "      <th>3</th>\n",
              "      <td>0</td>\n",
              "      <td>0.440</td>\n",
              "      <td>0.365</td>\n",
              "      <td>0.125</td>\n",
              "      <td>0.5160</td>\n",
              "      <td>0.2155</td>\n",
              "      <td>0.1140</td>\n",
              "      <td>0.1550</td>\n",
              "    </tr>\n",
              "    <tr>\n",
              "      <th>4</th>\n",
              "      <td>2</td>\n",
              "      <td>0.330</td>\n",
              "      <td>0.255</td>\n",
              "      <td>0.080</td>\n",
              "      <td>0.2050</td>\n",
              "      <td>0.0895</td>\n",
              "      <td>0.0395</td>\n",
              "      <td>0.0550</td>\n",
              "    </tr>\n",
              "    <tr>\n",
              "      <th>...</th>\n",
              "      <td>...</td>\n",
              "      <td>...</td>\n",
              "      <td>...</td>\n",
              "      <td>...</td>\n",
              "      <td>...</td>\n",
              "      <td>...</td>\n",
              "      <td>...</td>\n",
              "      <td>...</td>\n",
              "    </tr>\n",
              "    <tr>\n",
              "      <th>4172</th>\n",
              "      <td>1</td>\n",
              "      <td>0.565</td>\n",
              "      <td>0.450</td>\n",
              "      <td>0.165</td>\n",
              "      <td>0.8870</td>\n",
              "      <td>0.3700</td>\n",
              "      <td>0.2390</td>\n",
              "      <td>0.2490</td>\n",
              "    </tr>\n",
              "    <tr>\n",
              "      <th>4173</th>\n",
              "      <td>0</td>\n",
              "      <td>0.590</td>\n",
              "      <td>0.440</td>\n",
              "      <td>0.135</td>\n",
              "      <td>0.9660</td>\n",
              "      <td>0.4390</td>\n",
              "      <td>0.2145</td>\n",
              "      <td>0.2605</td>\n",
              "    </tr>\n",
              "    <tr>\n",
              "      <th>4174</th>\n",
              "      <td>0</td>\n",
              "      <td>0.600</td>\n",
              "      <td>0.475</td>\n",
              "      <td>0.205</td>\n",
              "      <td>1.1760</td>\n",
              "      <td>0.5255</td>\n",
              "      <td>0.2875</td>\n",
              "      <td>0.3080</td>\n",
              "    </tr>\n",
              "    <tr>\n",
              "      <th>4175</th>\n",
              "      <td>1</td>\n",
              "      <td>0.625</td>\n",
              "      <td>0.485</td>\n",
              "      <td>0.150</td>\n",
              "      <td>1.0945</td>\n",
              "      <td>0.5310</td>\n",
              "      <td>0.2610</td>\n",
              "      <td>0.2960</td>\n",
              "    </tr>\n",
              "    <tr>\n",
              "      <th>4176</th>\n",
              "      <td>0</td>\n",
              "      <td>0.710</td>\n",
              "      <td>0.555</td>\n",
              "      <td>0.195</td>\n",
              "      <td>1.9485</td>\n",
              "      <td>0.9455</td>\n",
              "      <td>0.3765</td>\n",
              "      <td>0.4950</td>\n",
              "    </tr>\n",
              "  </tbody>\n",
              "</table>\n",
              "<p>3773 rows × 8 columns</p>\n",
              "</div>"
            ],
            "text/plain": [
              "      Type  LongestShell  Diameter  ...  ShuckedWeight  VisceraWeight  ShellWeight\n",
              "0        0         0.455     0.365  ...         0.2245         0.1010       0.1500\n",
              "1        0         0.350     0.265  ...         0.0995         0.0485       0.0700\n",
              "2        1         0.530     0.420  ...         0.2565         0.1415       0.2100\n",
              "3        0         0.440     0.365  ...         0.2155         0.1140       0.1550\n",
              "4        2         0.330     0.255  ...         0.0895         0.0395       0.0550\n",
              "...    ...           ...       ...  ...            ...            ...          ...\n",
              "4172     1         0.565     0.450  ...         0.3700         0.2390       0.2490\n",
              "4173     0         0.590     0.440  ...         0.4390         0.2145       0.2605\n",
              "4174     0         0.600     0.475  ...         0.5255         0.2875       0.3080\n",
              "4175     1         0.625     0.485  ...         0.5310         0.2610       0.2960\n",
              "4176     0         0.710     0.555  ...         0.9455         0.3765       0.4950\n",
              "\n",
              "[3773 rows x 8 columns]"
            ]
          },
          "metadata": {
            "tags": []
          },
          "execution_count": 295
        }
      ]
    },
    {
      "cell_type": "code",
      "metadata": {
        "colab": {
          "base_uri": "https://localhost:8080/"
        },
        "id": "-BJq20rrv9u3",
        "outputId": "237e539a-419a-4ac2-a3a4-8e37fabd8707"
      },
      "source": [
        "#Rings será nossa saída/outcome\r\n",
        "Y = tabela8.Rings\r\n",
        "Y"
      ],
      "execution_count": null,
      "outputs": [
        {
          "output_type": "execute_result",
          "data": {
            "text/plain": [
              "0    15\n",
              "1     7\n",
              "2     9\n",
              "3    10\n",
              "4     7\n",
              "Name: Rings, dtype: int64"
            ]
          },
          "metadata": {
            "tags": []
          },
          "execution_count": 312
        }
      ]
    },
    {
      "cell_type": "code",
      "metadata": {
        "id": "smmkz8qvxAqp"
      },
      "source": [
        "from sklearn.model_selection import train_test_split\r\n",
        "#Fazemos a divisão do dataset entre treino e teste, sendo 80% do dataset para o treino e 20% para o teste.\r\n",
        "X_train, X_test, Y_train, Y_test = train_test_split(X, Y, test_size=0.2, random_state=10)"
      ],
      "execution_count": null,
      "outputs": []
    },
    {
      "cell_type": "code",
      "metadata": {
        "id": "omeGzos8xjqX"
      },
      "source": [
        "from sklearn import linear_model\r\n",
        "from sklearn.metrics import mean_squared_error, r2_score"
      ],
      "execution_count": null,
      "outputs": []
    },
    {
      "cell_type": "code",
      "metadata": {
        "colab": {
          "base_uri": "https://localhost:8080/",
          "height": 197
        },
        "id": "wp54Xn181hFA",
        "outputId": "558a9668-7ce8-4799-82f6-9ebf609d78a4"
      },
      "source": [
        "X_train.head()\r\n"
      ],
      "execution_count": null,
      "outputs": [
        {
          "output_type": "execute_result",
          "data": {
            "text/html": [
              "<div>\n",
              "<style scoped>\n",
              "    .dataframe tbody tr th:only-of-type {\n",
              "        vertical-align: middle;\n",
              "    }\n",
              "\n",
              "    .dataframe tbody tr th {\n",
              "        vertical-align: top;\n",
              "    }\n",
              "\n",
              "    .dataframe thead th {\n",
              "        text-align: right;\n",
              "    }\n",
              "</style>\n",
              "<table border=\"1\" class=\"dataframe\">\n",
              "  <thead>\n",
              "    <tr style=\"text-align: right;\">\n",
              "      <th></th>\n",
              "      <th>Type</th>\n",
              "      <th>LongestShell</th>\n",
              "      <th>Diameter</th>\n",
              "      <th>Height</th>\n",
              "      <th>WholeWeight</th>\n",
              "      <th>ShuckedWeight</th>\n",
              "      <th>VisceraWeight</th>\n",
              "      <th>ShellWeight</th>\n",
              "    </tr>\n",
              "  </thead>\n",
              "  <tbody>\n",
              "    <tr>\n",
              "      <th>3636</th>\n",
              "      <td>2</td>\n",
              "      <td>0.390</td>\n",
              "      <td>0.290</td>\n",
              "      <td>0.090</td>\n",
              "      <td>0.2745</td>\n",
              "      <td>0.1350</td>\n",
              "      <td>0.0455</td>\n",
              "      <td>0.078</td>\n",
              "    </tr>\n",
              "    <tr>\n",
              "      <th>3078</th>\n",
              "      <td>1</td>\n",
              "      <td>0.695</td>\n",
              "      <td>0.535</td>\n",
              "      <td>0.200</td>\n",
              "      <td>1.5855</td>\n",
              "      <td>0.6670</td>\n",
              "      <td>0.3340</td>\n",
              "      <td>0.471</td>\n",
              "    </tr>\n",
              "    <tr>\n",
              "      <th>2193</th>\n",
              "      <td>2</td>\n",
              "      <td>0.215</td>\n",
              "      <td>0.170</td>\n",
              "      <td>0.055</td>\n",
              "      <td>0.0605</td>\n",
              "      <td>0.0205</td>\n",
              "      <td>0.0140</td>\n",
              "      <td>0.020</td>\n",
              "    </tr>\n",
              "    <tr>\n",
              "      <th>2888</th>\n",
              "      <td>2</td>\n",
              "      <td>0.510</td>\n",
              "      <td>0.400</td>\n",
              "      <td>0.125</td>\n",
              "      <td>0.5935</td>\n",
              "      <td>0.2390</td>\n",
              "      <td>0.1300</td>\n",
              "      <td>0.204</td>\n",
              "    </tr>\n",
              "    <tr>\n",
              "      <th>1509</th>\n",
              "      <td>1</td>\n",
              "      <td>0.645</td>\n",
              "      <td>0.505</td>\n",
              "      <td>0.165</td>\n",
              "      <td>1.3180</td>\n",
              "      <td>0.5500</td>\n",
              "      <td>0.3015</td>\n",
              "      <td>0.335</td>\n",
              "    </tr>\n",
              "  </tbody>\n",
              "</table>\n",
              "</div>"
            ],
            "text/plain": [
              "      Type  LongestShell  Diameter  ...  ShuckedWeight  VisceraWeight  ShellWeight\n",
              "3636     2         0.390     0.290  ...         0.1350         0.0455        0.078\n",
              "3078     1         0.695     0.535  ...         0.6670         0.3340        0.471\n",
              "2193     2         0.215     0.170  ...         0.0205         0.0140        0.020\n",
              "2888     2         0.510     0.400  ...         0.2390         0.1300        0.204\n",
              "1509     1         0.645     0.505  ...         0.5500         0.3015        0.335\n",
              "\n",
              "[5 rows x 8 columns]"
            ]
          },
          "metadata": {
            "tags": []
          },
          "execution_count": 299
        }
      ]
    },
    {
      "cell_type": "code",
      "metadata": {
        "colab": {
          "base_uri": "https://localhost:8080/"
        },
        "id": "loHoqJ5TxnT-",
        "outputId": "2ed8c0ce-eedc-4faa-99c7-ced3b2c7d330"
      },
      "source": [
        "#Criamos inicialmente um modelo de regressão linear:\r\n",
        "model = linear_model.LinearRegression()\r\n",
        "#E então treinamos o modelo usando os dados de treino:\r\n",
        "model.fit(X_train, Y_train)"
      ],
      "execution_count": null,
      "outputs": [
        {
          "output_type": "execute_result",
          "data": {
            "text/plain": [
              "LinearRegression(copy_X=True, fit_intercept=True, n_jobs=None, normalize=False)"
            ]
          },
          "metadata": {
            "tags": []
          },
          "execution_count": 300
        }
      ]
    },
    {
      "cell_type": "code",
      "metadata": {
        "id": "GGzDWqUbqtSi"
      },
      "source": [
        "#Aqui fazemos predições usando os dados de treino:\r\n",
        "Y_pred_train = model.predict(X_train)"
      ],
      "execution_count": null,
      "outputs": []
    },
    {
      "cell_type": "code",
      "metadata": {
        "colab": {
          "base_uri": "https://localhost:8080/"
        },
        "id": "iO_-Ac7sqyo5",
        "outputId": "9b34d51c-8ad8-4c1f-965d-5e93507e5e77"
      },
      "source": [
        "#Abaixo mostramos os valores de RMSE e de R² resultados do uso dos dados de treino:\r\n",
        "import math\r\n",
        "print('Coefficients:', model.coef_)\r\n",
        "print('Intercept:', model.intercept_)\r\n",
        "print('Mean squared error (MSE): %.2f'\r\n",
        "      % mean_squared_error(Y_train, Y_pred_train))\r\n",
        "print('Root Mean squared error (RMSE): %.3f'\r\n",
        "      % math.sqrt(mean_squared_error(Y_train, Y_pred_train)))\r\n",
        "print('Coefficient of determination (R^2): %.2f'\r\n",
        "      % r2_score(Y_train, Y_pred_train))"
      ],
      "execution_count": null,
      "outputs": [
        {
          "output_type": "stream",
          "text": [
            "Coefficients: [ -0.36889992  -0.06024118  10.00199283  15.10687605   4.12844144\n",
            " -12.70238601  -3.19904506   6.92500669]\n",
            "Intercept: 3.8402759534221778\n",
            "Mean squared error (MSE): 2.73\n",
            "Root Mean squared error (RMSE): 1.653\n",
            "Coefficient of determination (R^2): 0.49\n"
          ],
          "name": "stdout"
        }
      ]
    },
    {
      "cell_type": "code",
      "metadata": {
        "id": "kxoXD-7-5pLb"
      },
      "source": [
        "#Aqui fazemos predições usando os dados de teste:\r\n",
        "\r\n",
        "Y_pred_test = model.predict(X_test)"
      ],
      "execution_count": null,
      "outputs": []
    },
    {
      "cell_type": "code",
      "metadata": {
        "colab": {
          "base_uri": "https://localhost:8080/"
        },
        "id": "drBk7t9P6o1V",
        "outputId": "225cdbb7-b62d-4813-f480-1bb322c90f62"
      },
      "source": [
        "#Abaixo mostramos os valores de RMSE e de R² resultados do uso dos dados de teste:\r\n",
        "import math\r\n",
        "print('Coefficients:', model.coef_)\r\n",
        "print('Intercept:', model.intercept_)\r\n",
        "print('Mean squared error (MSE): %.2f'\r\n",
        "      % mean_squared_error(Y_test, Y_pred_test))\r\n",
        "print('Root Mean squared error (RMSE): %.3f'\r\n",
        "      % math.sqrt(mean_squared_error(Y_test, Y_pred_test)))\r\n",
        "print('Coefficient of determination (R^2): %.2f'\r\n",
        "      % r2_score(Y_test, Y_pred_test))"
      ],
      "execution_count": null,
      "outputs": [
        {
          "output_type": "stream",
          "text": [
            "Coefficients: [ -0.36889992  -0.06024118  10.00199283  15.10687605   4.12844144\n",
            " -12.70238601  -3.19904506   6.92500669]\n",
            "Intercept: 3.8402759534221778\n",
            "Mean squared error (MSE): 2.53\n",
            "Root Mean squared error (RMSE): 1.592\n",
            "Coefficient of determination (R^2): 0.54\n"
          ],
          "name": "stdout"
        }
      ]
    },
    {
      "cell_type": "markdown",
      "metadata": {
        "id": "X2VKCY7d7mUj"
      },
      "source": [
        "Podemos comentar que para um bom modelo de regressão linear devemos ter valores de RMSE o mais próximo de 0 possível e valores de R² o mais próximo de 1 possível.\r\n",
        "<br>\r\n",
        "\r\n",
        "Quanto mais próximo de 1 o valor de R² melhor o modelo de regressão linear.\r\n",
        "R² varia de 0 a 1 e se temos um valor de R² de 0,5 concluímos que o modelo de regressão linear pode prever 50% do que está no mundo real.\r\n",
        "Quanto ao RMSE, quanto mais próximo de 0 o valor do RMSE, melhor o modelo de regressão linear. RMSE é uma medida do erro médio do resultado do modelo de regressão linear em relação ao mundo real. Por exemplo, se o RMSE é 1,6 concluímos que o modelo está errando em 1,6 anéis a mais ou a menos do valor do mundo real.\r\n",
        "<br>\r\n",
        "\r\n",
        "Nosso modelo de regressão linear apresentou os valores de:\r\n",
        "<br>\r\n",
        "\r\n",
        "Para os dados de treino: \r\n",
        "* RMSE: 1,653\r\n",
        "* R²: 0,49 (49%)\r\n",
        "\r\n",
        "<br>\r\n",
        "\r\n",
        "Para os dados de teste:\r\n",
        "\r\n",
        "* RMSE: 1,592\r\n",
        "* R²: 0,54 (54%)\r\n",
        "\r\n",
        "<br>\r\n",
        "\r\n",
        "Os valores obtidos para os dados de treino e os dados de teste são bem próximos, com os valores obtidos com os dados de teste sendo um pouco melhores.\r\n"
      ]
    },
    {
      "cell_type": "code",
      "metadata": {
        "id": "Yt2pkzyW3R0q"
      },
      "source": [
        "#Agora iremos testar nosso dataset usando o método cross validation:\r\n",
        "\r\n",
        "#Abaixo padronizamos os dados para fazer o cross validation:\r\n",
        "\r\n",
        "from sklearn.preprocessing import StandardScaler\r\n",
        "scaler = StandardScaler()\r\n",
        "\r\n",
        "#Padronizamos o set de treino e o set de teste\r\n",
        "X_train = scaler.fit_transform(X_train)\r\n",
        "X_test = scaler.transform (X_test)"
      ],
      "execution_count": null,
      "outputs": []
    },
    {
      "cell_type": "code",
      "metadata": {
        "colab": {
          "base_uri": "https://localhost:8080/",
          "height": 132
        },
        "id": "-uS0jI9J2Aq3",
        "outputId": "e68b7ce7-29f2-4faa-9778-b153a310b311"
      },
      "source": [
        "#Iremos usar 10 kfolds e ver os valores de RMSE e R² para cada um deles:\r\n",
        "from sklearn.model_selection import KFold\r\n",
        "from sklearn.metrics import mean_squared_error\r\n",
        "from sklearn.metrics import r2_score\r\n",
        "from sklearn.linear_model import LinearRegression\r\n",
        "kf = KFold(n_splits=10)\r\n",
        "resultadosr2 = []\r\n",
        "resultadosrmse = []\r\n",
        "cont = 1\r\n",
        "for train_index, test_index in kf.split(X_train):\r\n",
        "  X_train_cross, X_test_cross = X_train[train_index], X_train[test_index]\r\n",
        "  y_train_cross, y_test_cross = Y_train.iloc[train_index], Y_train.iloc[test_index]\r\n",
        " \r\n",
        "  model = LinearRegression()\r\n",
        "  model.fit(X_train_cross, y_train_cross)\r\n",
        "\r\n",
        "  y_pred = model.predict(X_test_cross)\r\n",
        "  r2 = r2_score(y_test_cross, y_pred)\r\n",
        "  resultadosr2.append(r2)\r\n",
        "  print('KFold {}'.format(cont))\r\n",
        "  print(\"Valor do R2: {}\".format(r2))\r\n",
        "  RMSE = mean_squared_error(y_test_cross, y_pred,squared=False)\r\n",
        "  resultadosrmse.a   ppend(RMSE)\r\n",
        "  print(\"Valor do RMSE: {}\\n\".format(RMSE))\r\n",
        "  cont+=1\r\n",
        "\r\n",
        "  "
      ],
      "execution_count": null,
      "outputs": [
        {
          "output_type": "error",
          "ename": "SyntaxError",
          "evalue": "ignored",
          "traceback": [
            "\u001b[0;36m  File \u001b[0;32m\"<ipython-input-315-4af85d51580c>\"\u001b[0;36m, line \u001b[0;32m23\u001b[0m\n\u001b[0;31m    resultadosrmse.a   ppend(RMSE)\u001b[0m\n\u001b[0m                           ^\u001b[0m\n\u001b[0;31mSyntaxError\u001b[0m\u001b[0;31m:\u001b[0m invalid syntax\n"
          ]
        }
      ]
    },
    {
      "cell_type": "markdown",
      "metadata": {
        "id": "HM0WRRyuFFg7"
      },
      "source": [
        "Como podemos ver acima, os valores de RMSE e R² continuaram próximos aos encontrados anteriormente. Iremos então fazer a média deles e obter também um valor próximo do obtido anteriormente:\r\n"
      ]
    },
    {
      "cell_type": "code",
      "metadata": {
        "colab": {
          "base_uri": "https://localhost:8080/"
        },
        "id": "S8Xb1EFqNC0f",
        "outputId": "c8dc6b08-bc2b-42c6-cada-5916aa3621a3"
      },
      "source": [
        "mediaR2 = np.mean(resultadosr2)\r\n",
        "mediaRMSE = np.mean(resultadosrmse)\r\n",
        "print(\"Média do R2: {}\\nMédia do RMSE: {}\".format(mediaR2, mediaRMSE))"
      ],
      "execution_count": null,
      "outputs": [
        {
          "output_type": "stream",
          "text": [
            "Média do R2: 0.4874520362670432\n",
            "Média do RMSE: 1.6583861030765141\n"
          ],
          "name": "stdout"
        }
      ]
    },
    {
      "cell_type": "code",
      "metadata": {
        "colab": {
          "base_uri": "https://localhost:8080/"
        },
        "id": "1xNq0gogQIZ8",
        "outputId": "10b547ea-bd60-4af2-b106-d535d4eb2e3d"
      },
      "source": [
        "#Abaixo vemos qual o resultado com o uso dos dados de teste para essa versão do modelo de regressão linear:\r\n",
        "model.fit(X_train, Y_train)\r\n",
        "y_pred = model.predict(X_test)\r\n",
        "r2 = r2_score(Y_test, y_pred)\r\n",
        "RMSE = mean_squared_error(Y_test, y_pred,squared=False)\r\n",
        "print('R2: {}\\nRMSE: {}\\n'.format(r2, RMSE))"
      ],
      "execution_count": null,
      "outputs": [
        {
          "output_type": "stream",
          "text": [
            "R2: 0.5398930152430355\n",
            "RMSE: 1.5920600935181664\n",
            "\n"
          ],
          "name": "stdout"
        }
      ]
    },
    {
      "cell_type": "markdown",
      "metadata": {
        "id": "M6nujij0RqFG"
      },
      "source": [
        "A seguir, iremos plotar alguns gráficos para demonstrar a relação entre o número de anéis preditos pelo nosso modelo e o valor real do número de anéis."
      ]
    },
    {
      "cell_type": "code",
      "metadata": {
        "id": "ArBsl2P5eGfM"
      },
      "source": [
        "def scatter_y(true_y, predicted_y):\r\n",
        "    \"\"\"Scatter-plot the prediro vs real número de anéis\r\n",
        "    \r\n",
        "    Plots:\r\n",
        "       * predito vs real número de anéis\r\n",
        "       * perfect agreement line\r\n",
        "       * +2/-2 number dotted lines\r\n",
        "\r\n",
        "    Returns the root mean square of the error\r\n",
        "    \"\"\"\r\n",
        "    fig, ax = plt.subplots(figsize=(8, 8))\r\n",
        "    ax.plot(true_y, predicted_y, '.k')\r\n",
        "    \r\n",
        "    ax.plot([0, 30], [0, 30], '--k')\r\n",
        "    ax.plot([0, 30], [2, 32], ':k')\r\n",
        "    ax.plot([2, 32], [0, 30], ':k')\r\n",
        "    \r\n",
        "    rms = (true_y - predicted_y).std()\r\n",
        "    \r\n",
        "    ax.text(25, 3,\r\n",
        "            \"Root Mean Square Error = %.2g\" % rms,\r\n",
        "            ha='right', va='bottom')\r\n",
        "\r\n",
        "    ax.set_xlim(0, 30)\r\n",
        "    ax.set_ylim(0, 30)\r\n",
        "    \r\n",
        "    ax.set_xlabel('Valor real do número de anéis')\r\n",
        "    ax.set_ylabel('Número de anéis predito')\r\n",
        "    \r\n",
        "    return rms\r\n",
        "    #Fonte: https://operational-machine-learning-pipeline.workshop.aws/assets/Model_Framing_Example.html"
      ],
      "execution_count": null,
      "outputs": []
    },
    {
      "cell_type": "markdown",
      "metadata": {
        "id": "a_BQJnN3WoOn"
      },
      "source": [
        "Plotando gráficos para melhor visualização do RMSE com os dados de treino e de teste"
      ]
    },
    {
      "cell_type": "code",
      "metadata": {
        "colab": {
          "base_uri": "https://localhost:8080/",
          "height": 535
        },
        "id": "yGVgTAx4WWcw",
        "outputId": "1b20ee81-ce00-44cb-b724-60c5ffad909b"
      },
      "source": [
        "#Com os dados de treino:\r\n",
        "predito_treino_y = model.predict(X_train)\r\n",
        "scatter_y(Y_train, predito_treino_y)\r\n",
        "plt.title(\"Plot com os dados de treino:\")\r\n"
      ],
      "execution_count": null,
      "outputs": [
        {
          "output_type": "execute_result",
          "data": {
            "text/plain": [
              "Text(0.5, 1.0, 'Plot com os dados de treino:')"
            ]
          },
          "metadata": {
            "tags": []
          },
          "execution_count": 310
        },
        {
          "output_type": "display_data",
          "data": {
            "image/png": "[encoded data removed]",
            "text/plain": [
              "<Figure size 576x576 with 1 Axes>"
            ]
          },
          "metadata": {
            "tags": []
          }
        }
      ]
    },
    {
      "cell_type": "code",
      "metadata": {
        "colab": {
          "base_uri": "https://localhost:8080/",
          "height": 535
        },
        "id": "rk2S2NKLWXQk",
        "outputId": "197d5588-5979-40aa-a325-cf1f96dbe35b"
      },
      "source": [
        "predito_teste_y = model.predict(X_test)\r\n",
        "scatter_y(Y_test, predito_teste_y)\r\n",
        "plt.title(\"Plot com os dados de teste:\")"
      ],
      "execution_count": null,
      "outputs": [
        {
          "output_type": "execute_result",
          "data": {
            "text/plain": [
              "Text(0.5, 1.0, 'Plot com os dados de teste:')"
            ]
          },
          "metadata": {
            "tags": []
          },
          "execution_count": 311
        },
        {
          "output_type": "display_data",
          "data": {
            "image/png": "[encoded data removed]",
            "text/plain": [
              "<Figure size 576x576 with 1 Axes>"
            ]
          },
          "metadata": {
            "tags": []
          }
        }
      ]
    },
    {
      "cell_type": "markdown",
      "metadata": {
        "id": "IkM52sGiddDJ"
      },
      "source": [
        "# Questão 02"
      ]
    },
    {
      "cell_type": "markdown",
      "metadata": {
        "id": "WWO0kuarOnDd"
      },
      "source": [
        "Iremos agora fazer uma regressão linear com base no modelo L2 (Ridge), e definimos o modelo a seguir:"
      ]
    },
    {
      "cell_type": "code",
      "metadata": {
        "colab": {
          "base_uri": "https://localhost:8080/"
        },
        "id": "SwsLM_EJOL4n",
        "outputId": "394b047d-c3d3-4868-a08b-5d29c752988c"
      },
      "source": [
        "from sklearn.linear_model import Ridge\r\n",
        "from sklearn.model_selection import cross_val_score\r\n",
        "\r\n",
        "diferenca = 0.1\r\n",
        "valR2 = [] #valores de R²\r\n",
        "valRMSE = [] #valores de rmse\r\n",
        "lamb = [] #valores de lambda\r\n",
        "alpha = diferenca\r\n",
        "\r\n",
        "for i in range(1, 11): #são usados 10 folds\r\n",
        "  Rid = Ridge(alpha = alpha) #modelo usado é o Ridge com variações de alpha\r\n",
        "  lamb.append(alpha)\r\n",
        "  RMSE = np.mean((-1*cross_val_score(Rid, X_train, Y_train, cv=10, scoring='neg_mean_squared_error'))**0.5)\r\n",
        "  R2 = np.mean(cross_val_score(Rid, X_train, Y_train, cv=10, scoring='r2'))\r\n",
        "  valR2.append(R2)\r\n",
        "  valRMSE.append(RMSE)\r\n",
        "  \r\n",
        "  print('lambda:', alpha)\r\n",
        "  print('Média de R²: ', R2)\r\n",
        "  print('Média de RMSE: ', RMSE)\r\n",
        "  alpha= alpha + diferenca\r\n",
        "  print()"
      ],
      "execution_count": null,
      "outputs": [
        {
          "output_type": "stream",
          "text": [
            "lambda: 0.1\n",
            "Média de R²:  0.4874619007876637\n",
            "Média de RMSE:  1.6583703471788165\n",
            "\n",
            "lambda: 0.2\n",
            "Média de R²:  0.48747120649257614\n",
            "Média de RMSE:  1.6583554869006765\n",
            "\n",
            "lambda: 0.30000000000000004\n",
            "Média de R²:  0.4874799687874912\n",
            "Média de RMSE:  1.6583414976521287\n",
            "\n",
            "lambda: 0.4\n",
            "Média de R²:  0.48748820260650644\n",
            "Média de RMSE:  1.658328355592125\n",
            "\n",
            "lambda: 0.5\n",
            "Média de R²:  0.4874959224284333\n",
            "Média de RMSE:  1.6583160376027695\n",
            "\n",
            "lambda: 0.6\n",
            "Média de R²:  0.4875031422924826\n",
            "Média de RMSE:  1.6583045212645566\n",
            "\n",
            "lambda: 0.7\n",
            "Média de R²:  0.4875098758133437\n",
            "Média de RMSE:  1.6582937848325643\n",
            "\n",
            "lambda: 0.7999999999999999\n",
            "Média de R²:  0.4875161361956776\n",
            "Média de RMSE:  1.658283807213563\n",
            "\n",
            "lambda: 0.8999999999999999\n",
            "Média de R²:  0.48752193624805235\n",
            "Média de RMSE:  1.6582745679439976\n",
            "\n",
            "lambda: 0.9999999999999999\n",
            "Média de R²:  0.48752728839634474\n",
            "Média de RMSE:  1.6582660471688098\n",
            "\n"
          ],
          "name": "stdout"
        }
      ]
    },
    {
      "cell_type": "code",
      "metadata": {
        "colab": {
          "base_uri": "https://localhost:8080/"
        },
        "id": "h4Owt7qSOPpP",
        "outputId": "d8962a70-13b5-4c8a-f488-bd90a9f67cf4"
      },
      "source": [
        "plt.plot(lamb, valR2)\r\n",
        "plt.xlabel('λ')\r\n",
        "plt.ylabel('R²')"
      ],
      "execution_count": null,
      "outputs": [
        {
          "output_type": "execute_result",
          "data": {
            "text/plain": [
              "Text(0, 0.5, 'R²')"
            ]
          },
          "metadata": {
            "tags": []
          },
          "execution_count": 239
        },
        {
          "output_type": "display_data",
          "data": {
            "image/png": "[encoded data removed]",
            "text/plain": [
              "<Figure size 432x288 with 1 Axes>"
            ]
          },
          "metadata": {
            "tags": []
          }
        }
      ]
    },
    {
      "cell_type": "code",
      "metadata": {
        "colab": {
          "base_uri": "https://localhost:8080/"
        },
        "id": "cxtu2TNnOYA_",
        "outputId": "0312cc7d-f487-4bce-f080-d80e326e8dcc"
      },
      "source": [
        "plt.plot(lamb, valRMSE)\r\n",
        "plt.xlabel('λ')\r\n",
        "plt.ylabel('RMSE')"
      ],
      "execution_count": null,
      "outputs": [
        {
          "output_type": "execute_result",
          "data": {
            "text/plain": [
              "Text(0, 0.5, 'RMSE')"
            ]
          },
          "metadata": {
            "tags": []
          },
          "execution_count": 240
        },
        {
          "output_type": "display_data",
          "data": {
            "image/png": "[encoded data removed]",
            "text/plain": [
              "<Figure size 432x288 with 1 Axes>"
            ]
          },
          "metadata": {
            "tags": []
          }
        }
      ]
    },
    {
      "cell_type": "markdown",
      "metadata": {
        "id": "RtX5c7QW2YsY"
      },
      "source": [
        "Ele pega o melhor alfa (λ) da grade de valores entre 0 e 1 com uma separação de 0,1.Como observado pelos plots, o valor ótimo de λ será, no caso, 1, pois é o valor em que o RMSE é menor e o R² é maior."
      ]
    },
    {
      "cell_type": "markdown",
      "metadata": {
        "id": "YTisBoGKPUkD"
      },
      "source": [
        "A seguir usa-se os dados de teste no modelo:"
      ]
    },
    {
      "cell_type": "code",
      "metadata": {
        "colab": {
          "base_uri": "https://localhost:8080/"
        },
        "id": "FYJDyW8RQ15Q",
        "outputId": "3b93995b-cddf-4977-c057-14ddfec55553"
      },
      "source": [
        "Rid.fit(X_train, Y_train)\r\n",
        "y_predito = Rid.predict(X_test)\r\n",
        "R2 = r2_score(Y_test, y_predito)\r\n",
        "RMSE = mean_squared_error(Y_test, y_pred,squared=False)\r\n",
        "print('R2:', R2)\r\n",
        "print('RMSE:', RMSE)"
      ],
      "execution_count": null,
      "outputs": [
        {
          "output_type": "stream",
          "text": [
            "R2: 0.5398130502452981\n",
            "RMSE: 1.5920600935181664\n"
          ],
          "name": "stdout"
        }
      ]
    },
    {
      "cell_type": "markdown",
      "metadata": {
        "id": "EyHVrq3CRCrH"
      },
      "source": [
        "Os valores obtidos com os  valores de teste são próximos aos valores obtidos com os valores de treino, mas ainda são melhores, pois o valor de R² é maior e o de RMSE é menor."
      ]
    },
    {
      "cell_type": "markdown",
      "metadata": {
        "id": "ZQNJAM7v_xsB"
      },
      "source": [
        "# Questão 03"
      ]
    },
    {
      "cell_type": "code",
      "metadata": {
        "id": "SGWY5wq21U5i"
      },
      "source": [
        "from sklearn.preprocessing import scale \r\n",
        "from sklearn import model_selection\r\n",
        "from sklearn.model_selection import RepeatedKFold\r\n",
        "from sklearn.model_selection import train_test_split\r\n",
        "from sklearn.decomposition import PCA\r\n",
        "from sklearn.linear_model import LinearRegression\r\n",
        "from sklearn.metrics import mean_squared_error"
      ],
      "execution_count": null,
      "outputs": []
    },
    {
      "cell_type": "code",
      "metadata": {
        "id": "Wr0MCvfb2K7l"
      },
      "source": [
        "#Definindos o preditor e as variáveis de resposta\r\n",
        "X = tabela8[[\"Type\", \"LongestShell\", \"Diameter\", \"Height\", \"WholeWeight\", \"ShuckedWeight\", \"VisceraWeight\", \"ShellWeight\"]]\r\n",
        "y = tabela8[[\"Rings\"]]"
      ],
      "execution_count": null,
      "outputs": []
    },
    {
      "cell_type": "code",
      "metadata": {
        "id": "z84e628I2_eK"
      },
      "source": [
        "pca = PCA()\r\n",
        "X_reduced = pca.fit_transform(scale(X))"
      ],
      "execution_count": null,
      "outputs": []
    },
    {
      "cell_type": "code",
      "metadata": {
        "id": "6AgpQVlM3Ff7"
      },
      "source": [
        "#Método de cross validation\r\n",
        "cv = RepeatedKFold(n_splits=10, n_repeats=3, random_state=1)\r\n",
        "regr = LinearRegression()\r\n",
        "mse=[]\r\n",
        "rmseli = []\r\n",
        "r2lis=[]"
      ],
      "execution_count": null,
      "outputs": []
    },
    {
      "cell_type": "code",
      "metadata": {
        "id": "Ab4WCVie3Iv-"
      },
      "source": [
        "#Calculando o MSE somente com o interceptor\r\n",
        "score = -1*model_selection.cross_val_score(regr,\r\n",
        "           np.ones((len(X_reduced),1)), y, cv=cv,\r\n",
        "           scoring='neg_mean_squared_error').mean()    \r\n",
        "mse.append(score)"
      ],
      "execution_count": null,
      "outputs": []
    },
    {
      "cell_type": "code",
      "metadata": {
        "colab": {
          "base_uri": "https://localhost:8080/"
        },
        "id": "VSLK91Wn3Y58",
        "outputId": "5a845ec7-608a-4dc7-f442-d3b4cc40f493"
      },
      "source": [
        "# Calculando o MSE usando cross-validation, adicionando um componente por vez\r\n",
        "for i in np.arange(1, 9):\r\n",
        "    score = -1*model_selection.cross_val_score(regr,\r\n",
        "               X_reduced[:,:i], y, cv=cv, scoring='neg_mean_squared_error').mean()\r\n",
        "    score2 = model_selection.cross_val_score(regr,\r\n",
        "               X_reduced[:,:i], y, cv=cv, scoring='r2').mean()\r\n",
        "    rmse = score**0.5\r\n",
        "    rmseli.append(rmse)\r\n",
        "    r2lis.append(score2)\r\n",
        "    print('Número de componentes:', i)\r\n",
        "    print('R²:', score2)\r\n",
        "    print('RMSE:', rmse)\r\n",
        "    print()\r\n",
        "\r\n"
      ],
      "execution_count": null,
      "outputs": [
        {
          "output_type": "stream",
          "text": [
            "Número de componentes: 1\n",
            "R²: 0.3550129483175688\n",
            "RMSE: 1.866361335672905\n",
            "\n",
            "Número de componentes: 2\n",
            "R²: 0.3623165911644402\n",
            "RMSE: 1.8556144638193182\n",
            "\n",
            "Número de componentes: 3\n",
            "R²: 0.4410160502078098\n",
            "RMSE: 1.73697952880622\n",
            "\n",
            "Número de componentes: 4\n",
            "R²: 0.44090799276325154\n",
            "RMSE: 1.737115917876598\n",
            "\n",
            "Número de componentes: 5\n",
            "R²: 0.4883462913991937\n",
            "RMSE: 1.6618630993110615\n",
            "\n",
            "Número de componentes: 6\n",
            "R²: 0.490625754771756\n",
            "RMSE: 1.6581531512283187\n",
            "\n",
            "Número de componentes: 7\n",
            "R²: 0.4910373346420526\n",
            "RMSE: 1.6574786792398408\n",
            "\n",
            "Número de componentes: 8\n",
            "R²: 0.4974951145640516\n",
            "RMSE: 1.6468509950687074\n",
            "\n"
          ],
          "name": "stdout"
        }
      ]
    },
    {
      "cell_type": "code",
      "metadata": {
        "colab": {
          "base_uri": "https://localhost:8080/",
          "height": 336
        },
        "id": "txsPfcdi3gRG",
        "outputId": "32fc2bbf-7b1f-4978-eb2a-4b2d518a931c"
      },
      "source": [
        "# Plotando os resultados do cross-validation \r\n",
        "print('Plot dos resultados:')  \r\n",
        "plt.plot(rmseli)\r\n",
        "plt.xlabel('Número de componentes principais')\r\n",
        "plt.ylabel('RMSE')\r\n",
        "plt.title('RMSE X Número de componentes')"
      ],
      "execution_count": null,
      "outputs": [
        {
          "output_type": "stream",
          "text": [
            "Plot dos resultados:\n"
          ],
          "name": "stdout"
        },
        {
          "output_type": "execute_result",
          "data": {
            "text/plain": [
              "Text(0.5, 1.0, 'RMSE X Número de componentes')"
            ]
          },
          "metadata": {
            "tags": []
          },
          "execution_count": 252
        },
        {
          "output_type": "display_data",
          "data": {
            "image/png": "[encoded data removed]",
            "text/plain": [
              "<Figure size 432x288 with 1 Axes>"
            ]
          },
          "metadata": {
            "tags": []
          }
        }
      ]
    },
    {
      "cell_type": "code",
      "metadata": {
        "colab": {
          "base_uri": "https://localhost:8080/"
        },
        "id": "1gEJynA16Jmh",
        "outputId": "d4173770-6c74-4df9-99fe-cd03d8dacd8a"
      },
      "source": [
        "# Plotando os resultados do cross-validation \r\n",
        "print('Plot dos resultados:')  \r\n",
        "plt.plot(r2lis)\r\n",
        "plt.xlabel('Número de componentes principais')\r\n",
        "plt.ylabel('R²')\r\n",
        "plt.title('R² X Número de componentes')"
      ],
      "execution_count": null,
      "outputs": [
        {
          "output_type": "stream",
          "text": [
            "Plot dos resultados:\n"
          ],
          "name": "stdout"
        },
        {
          "output_type": "execute_result",
          "data": {
            "text/plain": [
              "Text(0.5, 1.0, 'R² X Número de componentes')"
            ]
          },
          "metadata": {
            "tags": []
          },
          "execution_count": 76
        },
        {
          "output_type": "display_data",
          "data": {
            "image/png": "[encoded data removed]",
            "text/plain": [
              "<Figure size 432x288 with 1 Axes>"
            ]
          },
          "metadata": {
            "tags": [],
            "needs_background": "light"
          }
        }
      ]
    },
    {
      "cell_type": "markdown",
      "metadata": {
        "id": "A-qLeSwL8Jft"
      },
      "source": [
        "Vemos que o RMSE decresce e o R² cresce à medida que se aumenta o número de componentes, por isso, concluímos que o número ótimo é o de 8 componentes, ou seja, usando todos os componentes."
      ]
    },
    {
      "cell_type": "markdown",
      "metadata": {
        "id": "7JhZQzbD7oHL"
      },
      "source": [
        "Agora iremos testar nosso modelo:"
      ]
    },
    {
      "cell_type": "code",
      "metadata": {
        "id": "ZRtNsChZ8tl8"
      },
      "source": [
        "#dividindo os dados em dados de treino (70%) e dados de teste (30%)\r\n",
        "X_train,X_test,y_train,y_test = train_test_split(X,y,test_size=0.3,random_state=0) "
      ],
      "execution_count": null,
      "outputs": []
    },
    {
      "cell_type": "code",
      "metadata": {
        "id": "15o9Yzd79Dwh"
      },
      "source": [
        "#Padronizando os dados\r\n",
        "X_reduced_train = pca.fit_transform(scale(X_train))\r\n",
        "X_reduced_test = pca.transform(scale(X_test))[:,:8]\r\n"
      ],
      "execution_count": null,
      "outputs": []
    },
    {
      "cell_type": "code",
      "metadata": {
        "colab": {
          "base_uri": "https://localhost:8080/"
        },
        "id": "YppcUIqp9JXt",
        "outputId": "6d574122-266b-4e0b-d1af-fe4db1305aad"
      },
      "source": [
        "#Treinando o modelo PCR model com os dados de treino\r\n",
        "regr = LinearRegression()\r\n",
        "regr.fit(X_reduced_train[:,:8], y_train)"
      ],
      "execution_count": null,
      "outputs": [
        {
          "output_type": "execute_result",
          "data": {
            "text/plain": [
              "LinearRegression(copy_X=True, fit_intercept=True, n_jobs=None, normalize=False)"
            ]
          },
          "metadata": {
            "tags": []
          },
          "execution_count": 255
        }
      ]
    },
    {
      "cell_type": "code",
      "metadata": {
        "colab": {
          "base_uri": "https://localhost:8080/"
        },
        "id": "bj78N9fU9YSV",
        "outputId": "616dfb95-2cd4-4801-de5c-5a8b58edb6d4"
      },
      "source": [
        "#Calculando o RMSE e o R² com os dados de teste\r\n",
        "pred = regr.predict(X_reduced_test)\r\n",
        "rmse = np.sqrt(mean_squared_error(y_test, pred))\r\n",
        "r2 = r2_score(y_test, pred)\r\n",
        "print('RMSE:', rmse)\r\n",
        "print('R²:', r2)\r\n"
      ],
      "execution_count": null,
      "outputs": [
        {
          "output_type": "stream",
          "text": [
            "RMSE: 1.5892169501858608\n",
            "R²: 0.5075327688683663\n"
          ],
          "name": "stdout"
        }
      ]
    }
  ]
}